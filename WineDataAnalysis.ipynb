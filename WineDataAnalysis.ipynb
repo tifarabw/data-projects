{
 "cells": [
  {
   "cell_type": "code",
   "execution_count": 2,
   "id": "9f68b97f",
   "metadata": {},
   "outputs": [],
   "source": [
    "import pandas as pd\n",
    "import numpy as np\n",
    "import matplotlib.pyplot as plt"
   ]
  },
  {
   "cell_type": "code",
   "execution_count": 3,
   "id": "cb07fe0a",
   "metadata": {
    "scrolled": false
   },
   "outputs": [
    {
     "data": {
      "text/html": [
       "<div>\n",
       "<style scoped>\n",
       "    .dataframe tbody tr th:only-of-type {\n",
       "        vertical-align: middle;\n",
       "    }\n",
       "\n",
       "    .dataframe tbody tr th {\n",
       "        vertical-align: top;\n",
       "    }\n",
       "\n",
       "    .dataframe thead th {\n",
       "        text-align: right;\n",
       "    }\n",
       "</style>\n",
       "<table border=\"1\" class=\"dataframe\">\n",
       "  <thead>\n",
       "    <tr style=\"text-align: right;\">\n",
       "      <th></th>\n",
       "      <th>Wine</th>\n",
       "      <th>Alcohol</th>\n",
       "      <th>Malic Acid</th>\n",
       "      <th>Ash</th>\n",
       "      <th>Alcalinity of ash</th>\n",
       "      <th>Magnesium</th>\n",
       "      <th>Total phenols</th>\n",
       "      <th>Flavanoids</th>\n",
       "      <th>Nonflavanoid phenols</th>\n",
       "      <th>Proanthocyanins</th>\n",
       "      <th>Color intensity</th>\n",
       "      <th>Hue</th>\n",
       "      <th>OD280/OD315 of diluted wines</th>\n",
       "      <th>Proline</th>\n",
       "    </tr>\n",
       "  </thead>\n",
       "  <tbody>\n",
       "    <tr>\n",
       "      <th>0</th>\n",
       "      <td>1</td>\n",
       "      <td>14.23</td>\n",
       "      <td>1.71</td>\n",
       "      <td>2.43</td>\n",
       "      <td>15.6</td>\n",
       "      <td>127</td>\n",
       "      <td>2.80</td>\n",
       "      <td>3.06</td>\n",
       "      <td>0.28</td>\n",
       "      <td>2.29</td>\n",
       "      <td>5.64</td>\n",
       "      <td>1.04</td>\n",
       "      <td>3.92</td>\n",
       "      <td>1065</td>\n",
       "    </tr>\n",
       "    <tr>\n",
       "      <th>1</th>\n",
       "      <td>1</td>\n",
       "      <td>13.20</td>\n",
       "      <td>1.78</td>\n",
       "      <td>2.14</td>\n",
       "      <td>11.2</td>\n",
       "      <td>100</td>\n",
       "      <td>2.65</td>\n",
       "      <td>2.76</td>\n",
       "      <td>0.26</td>\n",
       "      <td>1.28</td>\n",
       "      <td>4.38</td>\n",
       "      <td>1.05</td>\n",
       "      <td>3.40</td>\n",
       "      <td>1050</td>\n",
       "    </tr>\n",
       "    <tr>\n",
       "      <th>2</th>\n",
       "      <td>1</td>\n",
       "      <td>13.16</td>\n",
       "      <td>2.36</td>\n",
       "      <td>2.67</td>\n",
       "      <td>18.6</td>\n",
       "      <td>101</td>\n",
       "      <td>2.80</td>\n",
       "      <td>3.24</td>\n",
       "      <td>0.30</td>\n",
       "      <td>2.81</td>\n",
       "      <td>5.68</td>\n",
       "      <td>1.03</td>\n",
       "      <td>3.17</td>\n",
       "      <td>1185</td>\n",
       "    </tr>\n",
       "    <tr>\n",
       "      <th>3</th>\n",
       "      <td>1</td>\n",
       "      <td>14.37</td>\n",
       "      <td>1.95</td>\n",
       "      <td>2.50</td>\n",
       "      <td>16.8</td>\n",
       "      <td>113</td>\n",
       "      <td>3.85</td>\n",
       "      <td>3.49</td>\n",
       "      <td>0.24</td>\n",
       "      <td>2.18</td>\n",
       "      <td>7.80</td>\n",
       "      <td>0.86</td>\n",
       "      <td>3.45</td>\n",
       "      <td>1480</td>\n",
       "    </tr>\n",
       "    <tr>\n",
       "      <th>4</th>\n",
       "      <td>1</td>\n",
       "      <td>13.24</td>\n",
       "      <td>2.59</td>\n",
       "      <td>2.87</td>\n",
       "      <td>21.0</td>\n",
       "      <td>118</td>\n",
       "      <td>2.80</td>\n",
       "      <td>2.69</td>\n",
       "      <td>0.39</td>\n",
       "      <td>1.82</td>\n",
       "      <td>4.32</td>\n",
       "      <td>1.04</td>\n",
       "      <td>2.93</td>\n",
       "      <td>735</td>\n",
       "    </tr>\n",
       "    <tr>\n",
       "      <th>...</th>\n",
       "      <td>...</td>\n",
       "      <td>...</td>\n",
       "      <td>...</td>\n",
       "      <td>...</td>\n",
       "      <td>...</td>\n",
       "      <td>...</td>\n",
       "      <td>...</td>\n",
       "      <td>...</td>\n",
       "      <td>...</td>\n",
       "      <td>...</td>\n",
       "      <td>...</td>\n",
       "      <td>...</td>\n",
       "      <td>...</td>\n",
       "      <td>...</td>\n",
       "    </tr>\n",
       "    <tr>\n",
       "      <th>173</th>\n",
       "      <td>3</td>\n",
       "      <td>13.71</td>\n",
       "      <td>5.65</td>\n",
       "      <td>2.45</td>\n",
       "      <td>20.5</td>\n",
       "      <td>95</td>\n",
       "      <td>1.68</td>\n",
       "      <td>0.61</td>\n",
       "      <td>0.52</td>\n",
       "      <td>1.06</td>\n",
       "      <td>7.70</td>\n",
       "      <td>0.64</td>\n",
       "      <td>1.74</td>\n",
       "      <td>740</td>\n",
       "    </tr>\n",
       "    <tr>\n",
       "      <th>174</th>\n",
       "      <td>3</td>\n",
       "      <td>13.40</td>\n",
       "      <td>3.91</td>\n",
       "      <td>2.48</td>\n",
       "      <td>23.0</td>\n",
       "      <td>102</td>\n",
       "      <td>1.80</td>\n",
       "      <td>0.75</td>\n",
       "      <td>0.43</td>\n",
       "      <td>1.41</td>\n",
       "      <td>7.30</td>\n",
       "      <td>0.70</td>\n",
       "      <td>1.56</td>\n",
       "      <td>750</td>\n",
       "    </tr>\n",
       "    <tr>\n",
       "      <th>175</th>\n",
       "      <td>3</td>\n",
       "      <td>13.27</td>\n",
       "      <td>4.28</td>\n",
       "      <td>2.26</td>\n",
       "      <td>20.0</td>\n",
       "      <td>120</td>\n",
       "      <td>1.59</td>\n",
       "      <td>0.69</td>\n",
       "      <td>0.43</td>\n",
       "      <td>1.35</td>\n",
       "      <td>10.20</td>\n",
       "      <td>0.59</td>\n",
       "      <td>1.56</td>\n",
       "      <td>835</td>\n",
       "    </tr>\n",
       "    <tr>\n",
       "      <th>176</th>\n",
       "      <td>3</td>\n",
       "      <td>13.17</td>\n",
       "      <td>2.59</td>\n",
       "      <td>2.37</td>\n",
       "      <td>20.0</td>\n",
       "      <td>120</td>\n",
       "      <td>1.65</td>\n",
       "      <td>0.68</td>\n",
       "      <td>0.53</td>\n",
       "      <td>1.46</td>\n",
       "      <td>9.30</td>\n",
       "      <td>0.60</td>\n",
       "      <td>1.62</td>\n",
       "      <td>840</td>\n",
       "    </tr>\n",
       "    <tr>\n",
       "      <th>177</th>\n",
       "      <td>3</td>\n",
       "      <td>14.13</td>\n",
       "      <td>4.10</td>\n",
       "      <td>2.74</td>\n",
       "      <td>24.5</td>\n",
       "      <td>96</td>\n",
       "      <td>2.05</td>\n",
       "      <td>0.76</td>\n",
       "      <td>0.56</td>\n",
       "      <td>1.35</td>\n",
       "      <td>9.20</td>\n",
       "      <td>0.61</td>\n",
       "      <td>1.60</td>\n",
       "      <td>560</td>\n",
       "    </tr>\n",
       "  </tbody>\n",
       "</table>\n",
       "<p>178 rows × 14 columns</p>\n",
       "</div>"
      ],
      "text/plain": [
       "     Wine  Alcohol  Malic Acid   Ash  Alcalinity of ash  Magnesium  \\\n",
       "0       1    14.23        1.71  2.43               15.6        127   \n",
       "1       1    13.20        1.78  2.14               11.2        100   \n",
       "2       1    13.16        2.36  2.67               18.6        101   \n",
       "3       1    14.37        1.95  2.50               16.8        113   \n",
       "4       1    13.24        2.59  2.87               21.0        118   \n",
       "..    ...      ...         ...   ...                ...        ...   \n",
       "173     3    13.71        5.65  2.45               20.5         95   \n",
       "174     3    13.40        3.91  2.48               23.0        102   \n",
       "175     3    13.27        4.28  2.26               20.0        120   \n",
       "176     3    13.17        2.59  2.37               20.0        120   \n",
       "177     3    14.13        4.10  2.74               24.5         96   \n",
       "\n",
       "     Total phenols  Flavanoids  Nonflavanoid phenols  Proanthocyanins  \\\n",
       "0             2.80        3.06                  0.28             2.29   \n",
       "1             2.65        2.76                  0.26             1.28   \n",
       "2             2.80        3.24                  0.30             2.81   \n",
       "3             3.85        3.49                  0.24             2.18   \n",
       "4             2.80        2.69                  0.39             1.82   \n",
       "..             ...         ...                   ...              ...   \n",
       "173           1.68        0.61                  0.52             1.06   \n",
       "174           1.80        0.75                  0.43             1.41   \n",
       "175           1.59        0.69                  0.43             1.35   \n",
       "176           1.65        0.68                  0.53             1.46   \n",
       "177           2.05        0.76                  0.56             1.35   \n",
       "\n",
       "     Color intensity   Hue  OD280/OD315 of diluted wines  Proline  \n",
       "0               5.64  1.04                          3.92     1065  \n",
       "1               4.38  1.05                          3.40     1050  \n",
       "2               5.68  1.03                          3.17     1185  \n",
       "3               7.80  0.86                          3.45     1480  \n",
       "4               4.32  1.04                          2.93      735  \n",
       "..               ...   ...                           ...      ...  \n",
       "173             7.70  0.64                          1.74      740  \n",
       "174             7.30  0.70                          1.56      750  \n",
       "175            10.20  0.59                          1.56      835  \n",
       "176             9.30  0.60                          1.62      840  \n",
       "177             9.20  0.61                          1.60      560  \n",
       "\n",
       "[178 rows x 14 columns]"
      ]
     },
     "execution_count": 3,
     "metadata": {},
     "output_type": "execute_result"
    }
   ],
   "source": [
    "df = pd.read_csv(r'C:\\Users\\User\\Documents\\wine.data', sep = ',', header = None)\n",
    "df.columns = ['Wine', 'Alcohol', 'Malic Acid', 'Ash', 'Alcalinity of ash', 'Magnesium', 'Total phenols', 'Flavanoids' , 'Nonflavanoid phenols', 'Proanthocyanins', 'Color intensity', 'Hue', 'OD280/OD315 of diluted wines', 'Proline']\n",
    "df\n"
   ]
  },
  {
   "cell_type": "code",
   "execution_count": 4,
   "id": "fe492a3d",
   "metadata": {},
   "outputs": [
    {
     "data": {
      "image/png": "[encoded data removed]",
      "text/plain": [
       "<Figure size 432x288 with 1 Axes>"
      ]
     },
     "metadata": {
      "needs_background": "light"
     },
     "output_type": "display_data"
    }
   ],
   "source": [
    "wine = ['1', '2', '3']\n",
    "jumlah = [59, 71, 48]\n",
    "\n",
    "plt.bar(wine, jumlah, color = \"#8c0034\")\n",
    "plt.title(\"Banyak Tipe Wine\")\n",
    "plt.xlabel('Tipe Wine')\n",
    "plt.ylabel('Quantity')\n",
    "plt.show()"
   ]
  },
  {
   "cell_type": "code",
   "execution_count": 5,
   "id": "c3208253",
   "metadata": {
    "scrolled": true
   },
   "outputs": [
    {
     "data": {
      "image/png": "[encoded data removed]",
      "text/plain": [
       "<Figure size 432x288 with 1 Axes>"
      ]
     },
     "metadata": {},
     "output_type": "display_data"
    }
   ],
   "source": [
    "warna = ['red', 'purple', '#8c0034']\n",
    "\n",
    "plt.pie(jumlah, labels = wine, colors = warna, autopct='%1.1f%%', textprops={'color':\"w\"})\n",
    "plt.legend(loc='upper center', bbox_to_anchor=(0.5, 1.05), ncol=3, fancybox=True, shadow=True)\n",
    "plt.show() "
   ]
  },
  {
   "cell_type": "code",
   "execution_count": 6,
   "id": "8c650cbe",
   "metadata": {
    "scrolled": false
   },
   "outputs": [],
   "source": [
    "df_type_1 = df[df[\"Wine\"] == 1] \n",
    "df_type_1 = df_type_1[[\"Wine\", \"Alcohol\"]].sort_values(by=['Alcohol'])\n",
    "\n",
    "#print(df_type_1)"
   ]
  },
  {
   "cell_type": "code",
   "execution_count": 7,
   "id": "532de379",
   "metadata": {
    "scrolled": true
   },
   "outputs": [
    {
     "data": {
      "image/png": "[encoded data removed]",
      "text/plain": [
       "<Figure size 432x288 with 1 Axes>"
      ]
     },
     "metadata": {
      "needs_background": "light"
     },
     "output_type": "display_data"
    }
   ],
   "source": [
    "x1 = df.loc[df[\"Wine\"]==1, 'Alcohol']\n",
    "x2 = df.loc[df[\"Wine\"]==2, 'Alcohol']\n",
    "x3 = df.loc[df[\"Wine\"]==3, 'Alcohol']\n",
    "\n",
    "hist = dict(alpha=0.6, bins=25)\n",
    "\n",
    "plt.hist(x1, **hist, color='g', label = 'Tipe 1')\n",
    "plt.hist(x2, **hist, color='b', label = 'Tipe 2')\n",
    "plt.hist(x3, **hist, color='r', label = 'Tipe 3')\n",
    "plt.gca().set(title='Frekuensi Alkohol Menurut Tipe Wine', xlabel = 'Alkohol', ylabel = 'Frekuensi')\n",
    "\n",
    "plt.legend();"
   ]
  },
  {
   "cell_type": "code",
   "execution_count": 8,
   "id": "4ebb7aec",
   "metadata": {},
   "outputs": [
    {
     "data": {
      "text/plain": [
       "Wine                              int64\n",
       "Alcohol                         float64\n",
       "Malic Acid                      float64\n",
       "Ash                             float64\n",
       "Alcalinity of ash               float64\n",
       "Magnesium                         int64\n",
       "Total phenols                   float64\n",
       "Flavanoids                      float64\n",
       "Nonflavanoid phenols            float64\n",
       "Proanthocyanins                 float64\n",
       "Color intensity                 float64\n",
       "Hue                             float64\n",
       "OD280/OD315 of diluted wines    float64\n",
       "Proline                           int64\n",
       "dtype: object"
      ]
     },
     "execution_count": 8,
     "metadata": {},
     "output_type": "execute_result"
    }
   ],
   "source": [
    "df.dtypes"
   ]
  },
  {
   "cell_type": "code",
   "execution_count": 9,
   "id": "dae80a26",
   "metadata": {},
   "outputs": [
    {
     "name": "stdout",
     "output_type": "stream",
     "text": [
      "             Wine     Alcohol  Malic Acid         Ash  Alcalinity of ash  \\\n",
      "count  178.000000  178.000000  178.000000  178.000000         178.000000   \n",
      "mean     1.938202   13.000618    2.336348    2.366517          19.494944   \n",
      "std      0.775035    0.811827    1.117146    0.274344           3.339564   \n",
      "min      1.000000   11.030000    0.740000    1.360000          10.600000   \n",
      "25%      1.000000   12.362500    1.602500    2.210000          17.200000   \n",
      "50%      2.000000   13.050000    1.865000    2.360000          19.500000   \n",
      "75%      3.000000   13.677500    3.082500    2.557500          21.500000   \n",
      "max      3.000000   14.830000    5.800000    3.230000          30.000000   \n",
      "\n",
      "        Magnesium  Total phenols  Flavanoids  Nonflavanoid phenols  \\\n",
      "count  178.000000     178.000000  178.000000            178.000000   \n",
      "mean    99.741573       2.295112    2.029270              0.361854   \n",
      "std     14.282484       0.625851    0.998859              0.124453   \n",
      "min     70.000000       0.980000    0.340000              0.130000   \n",
      "25%     88.000000       1.742500    1.205000              0.270000   \n",
      "50%     98.000000       2.355000    2.135000              0.340000   \n",
      "75%    107.000000       2.800000    2.875000              0.437500   \n",
      "max    162.000000       3.880000    5.080000              0.660000   \n",
      "\n",
      "       Proanthocyanins  Color intensity         Hue  \\\n",
      "count       178.000000       178.000000  178.000000   \n",
      "mean          1.590899         5.058090    0.957449   \n",
      "std           0.572359         2.318286    0.228572   \n",
      "min           0.410000         1.280000    0.480000   \n",
      "25%           1.250000         3.220000    0.782500   \n",
      "50%           1.555000         4.690000    0.965000   \n",
      "75%           1.950000         6.200000    1.120000   \n",
      "max           3.580000        13.000000    1.710000   \n",
      "\n",
      "       OD280/OD315 of diluted wines      Proline  \n",
      "count                    178.000000   178.000000  \n",
      "mean                       2.611685   746.893258  \n",
      "std                        0.709990   314.907474  \n",
      "min                        1.270000   278.000000  \n",
      "25%                        1.937500   500.500000  \n",
      "50%                        2.780000   673.500000  \n",
      "75%                        3.170000   985.000000  \n",
      "max                        4.000000  1680.000000  \n"
     ]
    }
   ],
   "source": [
    "stat = df.describe(include = 'all')\n",
    "\n",
    "print(stat)"
   ]
  },
  {
   "cell_type": "markdown",
   "id": "ae823ea7",
   "metadata": {},
   "source": [
    "-------------------------------------------WINE Type-------------------------------------------------"
   ]
  },
  {
   "cell_type": "code",
   "execution_count": 10,
   "id": "e9f3f8b1",
   "metadata": {},
   "outputs": [
    {
     "name": "stdout",
     "output_type": "stream",
     "text": [
      "59\n"
     ]
    }
   ],
   "source": [
    "banyak_wine_1 = len(df_type_1)\n",
    "print(banyak_wine_1)"
   ]
  },
  {
   "cell_type": "code",
   "execution_count": 11,
   "id": "6e992618",
   "metadata": {},
   "outputs": [],
   "source": [
    "df_type_2 = df[df[\"Wine\"] == 2] \n",
    "\n",
    "#print(df_type_2)"
   ]
  },
  {
   "cell_type": "code",
   "execution_count": 12,
   "id": "e4fd3024",
   "metadata": {},
   "outputs": [
    {
     "name": "stdout",
     "output_type": "stream",
     "text": [
      "71\n"
     ]
    }
   ],
   "source": [
    "banyak_wine_2 = len(df_type_2)\n",
    "print(banyak_wine_2)"
   ]
  },
  {
   "cell_type": "code",
   "execution_count": 13,
   "id": "863cd312",
   "metadata": {},
   "outputs": [],
   "source": [
    "df_type_3 = df[df[\"Wine\"] == 3] \n",
    "\n",
    "#print(df_type_3)"
   ]
  },
  {
   "cell_type": "code",
   "execution_count": 14,
   "id": "9de0595b",
   "metadata": {},
   "outputs": [
    {
     "name": "stdout",
     "output_type": "stream",
     "text": [
      "48\n"
     ]
    }
   ],
   "source": [
    "banyak_wine_3 = len(df_type_3)\n",
    "print(banyak_wine_3)"
   ]
  },
  {
   "cell_type": "markdown",
   "id": "b3145824",
   "metadata": {},
   "source": [
    "-------------------------------------------Alcohol-------------------------------------------------"
   ]
  },
  {
   "cell_type": "code",
   "execution_count": 15,
   "id": "c10740fe",
   "metadata": {
    "scrolled": true
   },
   "outputs": [
    {
     "data": {
      "text/plain": [
       "<AxesSubplot:xlabel='Alcohol', ylabel='Wine'>"
      ]
     },
     "execution_count": 15,
     "metadata": {},
     "output_type": "execute_result"
    },
    {
     "data": {
      "image/png": "[encoded data removed]",
      "text/plain": [
       "<Figure size 432x288 with 1 Axes>"
      ]
     },
     "metadata": {
      "needs_background": "light"
     },
     "output_type": "display_data"
    }
   ],
   "source": [
    "df.plot.scatter(x = 'Alcohol', y = 'Wine')"
   ]
  },
  {
   "cell_type": "code",
   "execution_count": 16,
   "id": "da83cc98",
   "metadata": {},
   "outputs": [],
   "source": [
    "import seaborn as sns"
   ]
  },
  {
   "cell_type": "code",
   "execution_count": 17,
   "id": "4783f9d2",
   "metadata": {
    "scrolled": false
   },
   "outputs": [
    {
     "data": {
      "text/html": [
       "<div>\n",
       "<style scoped>\n",
       "    .dataframe tbody tr th:only-of-type {\n",
       "        vertical-align: middle;\n",
       "    }\n",
       "\n",
       "    .dataframe tbody tr th {\n",
       "        vertical-align: top;\n",
       "    }\n",
       "\n",
       "    .dataframe thead th {\n",
       "        text-align: right;\n",
       "    }\n",
       "</style>\n",
       "<table border=\"1\" class=\"dataframe\">\n",
       "  <thead>\n",
       "    <tr style=\"text-align: right;\">\n",
       "      <th></th>\n",
       "      <th>Wine</th>\n",
       "      <th>Alcohol</th>\n",
       "      <th>Malic Acid</th>\n",
       "      <th>Ash</th>\n",
       "      <th>Alcalinity of ash</th>\n",
       "      <th>Magnesium</th>\n",
       "      <th>Total phenols</th>\n",
       "      <th>Flavanoids</th>\n",
       "      <th>Nonflavanoid phenols</th>\n",
       "      <th>Proanthocyanins</th>\n",
       "      <th>Color intensity</th>\n",
       "      <th>Hue</th>\n",
       "      <th>OD280/OD315 of diluted wines</th>\n",
       "      <th>Proline</th>\n",
       "    </tr>\n",
       "  </thead>\n",
       "  <tbody>\n",
       "    <tr>\n",
       "      <th>count</th>\n",
       "      <td>59.0</td>\n",
       "      <td>59.000000</td>\n",
       "      <td>59.000000</td>\n",
       "      <td>59.000000</td>\n",
       "      <td>59.000000</td>\n",
       "      <td>59.000000</td>\n",
       "      <td>59.000000</td>\n",
       "      <td>59.000000</td>\n",
       "      <td>59.000000</td>\n",
       "      <td>59.000000</td>\n",
       "      <td>59.000000</td>\n",
       "      <td>59.000000</td>\n",
       "      <td>59.000000</td>\n",
       "      <td>59.000000</td>\n",
       "    </tr>\n",
       "    <tr>\n",
       "      <th>mean</th>\n",
       "      <td>1.0</td>\n",
       "      <td>13.744746</td>\n",
       "      <td>2.010678</td>\n",
       "      <td>2.455593</td>\n",
       "      <td>17.037288</td>\n",
       "      <td>106.338983</td>\n",
       "      <td>2.840169</td>\n",
       "      <td>2.982373</td>\n",
       "      <td>0.290000</td>\n",
       "      <td>1.899322</td>\n",
       "      <td>5.528305</td>\n",
       "      <td>1.062034</td>\n",
       "      <td>3.157797</td>\n",
       "      <td>1115.711864</td>\n",
       "    </tr>\n",
       "    <tr>\n",
       "      <th>std</th>\n",
       "      <td>0.0</td>\n",
       "      <td>0.462125</td>\n",
       "      <td>0.688549</td>\n",
       "      <td>0.227166</td>\n",
       "      <td>2.546322</td>\n",
       "      <td>10.498949</td>\n",
       "      <td>0.338961</td>\n",
       "      <td>0.397494</td>\n",
       "      <td>0.070049</td>\n",
       "      <td>0.412109</td>\n",
       "      <td>1.238573</td>\n",
       "      <td>0.116483</td>\n",
       "      <td>0.357077</td>\n",
       "      <td>221.520767</td>\n",
       "    </tr>\n",
       "    <tr>\n",
       "      <th>min</th>\n",
       "      <td>1.0</td>\n",
       "      <td>12.850000</td>\n",
       "      <td>1.350000</td>\n",
       "      <td>2.040000</td>\n",
       "      <td>11.200000</td>\n",
       "      <td>89.000000</td>\n",
       "      <td>2.200000</td>\n",
       "      <td>2.190000</td>\n",
       "      <td>0.170000</td>\n",
       "      <td>1.250000</td>\n",
       "      <td>3.520000</td>\n",
       "      <td>0.820000</td>\n",
       "      <td>2.510000</td>\n",
       "      <td>680.000000</td>\n",
       "    </tr>\n",
       "    <tr>\n",
       "      <th>25%</th>\n",
       "      <td>1.0</td>\n",
       "      <td>13.400000</td>\n",
       "      <td>1.665000</td>\n",
       "      <td>2.295000</td>\n",
       "      <td>16.000000</td>\n",
       "      <td>98.000000</td>\n",
       "      <td>2.600000</td>\n",
       "      <td>2.680000</td>\n",
       "      <td>0.255000</td>\n",
       "      <td>1.640000</td>\n",
       "      <td>4.550000</td>\n",
       "      <td>0.995000</td>\n",
       "      <td>2.870000</td>\n",
       "      <td>987.500000</td>\n",
       "    </tr>\n",
       "    <tr>\n",
       "      <th>50%</th>\n",
       "      <td>1.0</td>\n",
       "      <td>13.750000</td>\n",
       "      <td>1.770000</td>\n",
       "      <td>2.440000</td>\n",
       "      <td>16.800000</td>\n",
       "      <td>104.000000</td>\n",
       "      <td>2.800000</td>\n",
       "      <td>2.980000</td>\n",
       "      <td>0.290000</td>\n",
       "      <td>1.870000</td>\n",
       "      <td>5.400000</td>\n",
       "      <td>1.070000</td>\n",
       "      <td>3.170000</td>\n",
       "      <td>1095.000000</td>\n",
       "    </tr>\n",
       "    <tr>\n",
       "      <th>75%</th>\n",
       "      <td>1.0</td>\n",
       "      <td>14.100000</td>\n",
       "      <td>1.935000</td>\n",
       "      <td>2.615000</td>\n",
       "      <td>18.700000</td>\n",
       "      <td>114.000000</td>\n",
       "      <td>3.000000</td>\n",
       "      <td>3.245000</td>\n",
       "      <td>0.320000</td>\n",
       "      <td>2.090000</td>\n",
       "      <td>6.225000</td>\n",
       "      <td>1.130000</td>\n",
       "      <td>3.420000</td>\n",
       "      <td>1280.000000</td>\n",
       "    </tr>\n",
       "    <tr>\n",
       "      <th>max</th>\n",
       "      <td>1.0</td>\n",
       "      <td>14.830000</td>\n",
       "      <td>4.040000</td>\n",
       "      <td>3.220000</td>\n",
       "      <td>25.000000</td>\n",
       "      <td>132.000000</td>\n",
       "      <td>3.880000</td>\n",
       "      <td>3.930000</td>\n",
       "      <td>0.500000</td>\n",
       "      <td>2.960000</td>\n",
       "      <td>8.900000</td>\n",
       "      <td>1.280000</td>\n",
       "      <td>4.000000</td>\n",
       "      <td>1680.000000</td>\n",
       "    </tr>\n",
       "  </tbody>\n",
       "</table>\n",
       "</div>"
      ],
      "text/plain": [
       "       Wine    Alcohol  Malic Acid        Ash  Alcalinity of ash   Magnesium  \\\n",
       "count  59.0  59.000000   59.000000  59.000000          59.000000   59.000000   \n",
       "mean    1.0  13.744746    2.010678   2.455593          17.037288  106.338983   \n",
       "std     0.0   0.462125    0.688549   0.227166           2.546322   10.498949   \n",
       "min     1.0  12.850000    1.350000   2.040000          11.200000   89.000000   \n",
       "25%     1.0  13.400000    1.665000   2.295000          16.000000   98.000000   \n",
       "50%     1.0  13.750000    1.770000   2.440000          16.800000  104.000000   \n",
       "75%     1.0  14.100000    1.935000   2.615000          18.700000  114.000000   \n",
       "max     1.0  14.830000    4.040000   3.220000          25.000000  132.000000   \n",
       "\n",
       "       Total phenols  Flavanoids  Nonflavanoid phenols  Proanthocyanins  \\\n",
       "count      59.000000   59.000000             59.000000        59.000000   \n",
       "mean        2.840169    2.982373              0.290000         1.899322   \n",
       "std         0.338961    0.397494              0.070049         0.412109   \n",
       "min         2.200000    2.190000              0.170000         1.250000   \n",
       "25%         2.600000    2.680000              0.255000         1.640000   \n",
       "50%         2.800000    2.980000              0.290000         1.870000   \n",
       "75%         3.000000    3.245000              0.320000         2.090000   \n",
       "max         3.880000    3.930000              0.500000         2.960000   \n",
       "\n",
       "       Color intensity        Hue  OD280/OD315 of diluted wines      Proline  \n",
       "count        59.000000  59.000000                     59.000000    59.000000  \n",
       "mean          5.528305   1.062034                      3.157797  1115.711864  \n",
       "std           1.238573   0.116483                      0.357077   221.520767  \n",
       "min           3.520000   0.820000                      2.510000   680.000000  \n",
       "25%           4.550000   0.995000                      2.870000   987.500000  \n",
       "50%           5.400000   1.070000                      3.170000  1095.000000  \n",
       "75%           6.225000   1.130000                      3.420000  1280.000000  \n",
       "max           8.900000   1.280000                      4.000000  1680.000000  "
      ]
     },
     "execution_count": 17,
     "metadata": {},
     "output_type": "execute_result"
    }
   ],
   "source": [
    "wine_1 = df[df[\"Wine\"]==1]\n",
    "\n",
    "wine_1.describe()"
   ]
  },
  {
   "cell_type": "code",
   "execution_count": 18,
   "id": "b9f72ccc",
   "metadata": {},
   "outputs": [
    {
     "data": {
      "text/html": [
       "<div>\n",
       "<style scoped>\n",
       "    .dataframe tbody tr th:only-of-type {\n",
       "        vertical-align: middle;\n",
       "    }\n",
       "\n",
       "    .dataframe tbody tr th {\n",
       "        vertical-align: top;\n",
       "    }\n",
       "\n",
       "    .dataframe thead th {\n",
       "        text-align: right;\n",
       "    }\n",
       "</style>\n",
       "<table border=\"1\" class=\"dataframe\">\n",
       "  <thead>\n",
       "    <tr style=\"text-align: right;\">\n",
       "      <th></th>\n",
       "      <th>Wine</th>\n",
       "      <th>Alcohol</th>\n",
       "      <th>Malic Acid</th>\n",
       "      <th>Ash</th>\n",
       "      <th>Alcalinity of ash</th>\n",
       "      <th>Magnesium</th>\n",
       "      <th>Total phenols</th>\n",
       "      <th>Flavanoids</th>\n",
       "      <th>Nonflavanoid phenols</th>\n",
       "      <th>Proanthocyanins</th>\n",
       "      <th>Color intensity</th>\n",
       "      <th>Hue</th>\n",
       "      <th>OD280/OD315 of diluted wines</th>\n",
       "      <th>Proline</th>\n",
       "    </tr>\n",
       "  </thead>\n",
       "  <tbody>\n",
       "    <tr>\n",
       "      <th>count</th>\n",
       "      <td>71.0</td>\n",
       "      <td>71.000000</td>\n",
       "      <td>71.000000</td>\n",
       "      <td>71.000000</td>\n",
       "      <td>71.000000</td>\n",
       "      <td>71.000000</td>\n",
       "      <td>71.000000</td>\n",
       "      <td>71.000000</td>\n",
       "      <td>71.000000</td>\n",
       "      <td>71.000000</td>\n",
       "      <td>71.000000</td>\n",
       "      <td>71.000000</td>\n",
       "      <td>71.000000</td>\n",
       "      <td>71.000000</td>\n",
       "    </tr>\n",
       "    <tr>\n",
       "      <th>mean</th>\n",
       "      <td>2.0</td>\n",
       "      <td>12.278732</td>\n",
       "      <td>1.932676</td>\n",
       "      <td>2.244789</td>\n",
       "      <td>20.238028</td>\n",
       "      <td>94.549296</td>\n",
       "      <td>2.258873</td>\n",
       "      <td>2.080845</td>\n",
       "      <td>0.363662</td>\n",
       "      <td>1.630282</td>\n",
       "      <td>3.086620</td>\n",
       "      <td>1.056282</td>\n",
       "      <td>2.785352</td>\n",
       "      <td>519.507042</td>\n",
       "    </tr>\n",
       "    <tr>\n",
       "      <th>std</th>\n",
       "      <td>0.0</td>\n",
       "      <td>0.537964</td>\n",
       "      <td>1.015569</td>\n",
       "      <td>0.315467</td>\n",
       "      <td>3.349770</td>\n",
       "      <td>16.753497</td>\n",
       "      <td>0.545361</td>\n",
       "      <td>0.705701</td>\n",
       "      <td>0.123961</td>\n",
       "      <td>0.602068</td>\n",
       "      <td>0.924929</td>\n",
       "      <td>0.202937</td>\n",
       "      <td>0.496573</td>\n",
       "      <td>157.211220</td>\n",
       "    </tr>\n",
       "    <tr>\n",
       "      <th>min</th>\n",
       "      <td>2.0</td>\n",
       "      <td>11.030000</td>\n",
       "      <td>0.740000</td>\n",
       "      <td>1.360000</td>\n",
       "      <td>10.600000</td>\n",
       "      <td>70.000000</td>\n",
       "      <td>1.100000</td>\n",
       "      <td>0.570000</td>\n",
       "      <td>0.130000</td>\n",
       "      <td>0.410000</td>\n",
       "      <td>1.280000</td>\n",
       "      <td>0.690000</td>\n",
       "      <td>1.590000</td>\n",
       "      <td>278.000000</td>\n",
       "    </tr>\n",
       "    <tr>\n",
       "      <th>25%</th>\n",
       "      <td>2.0</td>\n",
       "      <td>11.915000</td>\n",
       "      <td>1.270000</td>\n",
       "      <td>2.000000</td>\n",
       "      <td>18.000000</td>\n",
       "      <td>85.500000</td>\n",
       "      <td>1.895000</td>\n",
       "      <td>1.605000</td>\n",
       "      <td>0.270000</td>\n",
       "      <td>1.350000</td>\n",
       "      <td>2.535000</td>\n",
       "      <td>0.925000</td>\n",
       "      <td>2.440000</td>\n",
       "      <td>406.500000</td>\n",
       "    </tr>\n",
       "    <tr>\n",
       "      <th>50%</th>\n",
       "      <td>2.0</td>\n",
       "      <td>12.290000</td>\n",
       "      <td>1.610000</td>\n",
       "      <td>2.240000</td>\n",
       "      <td>20.000000</td>\n",
       "      <td>88.000000</td>\n",
       "      <td>2.200000</td>\n",
       "      <td>2.030000</td>\n",
       "      <td>0.370000</td>\n",
       "      <td>1.610000</td>\n",
       "      <td>2.900000</td>\n",
       "      <td>1.040000</td>\n",
       "      <td>2.830000</td>\n",
       "      <td>495.000000</td>\n",
       "    </tr>\n",
       "    <tr>\n",
       "      <th>75%</th>\n",
       "      <td>2.0</td>\n",
       "      <td>12.515000</td>\n",
       "      <td>2.145000</td>\n",
       "      <td>2.420000</td>\n",
       "      <td>22.000000</td>\n",
       "      <td>99.500000</td>\n",
       "      <td>2.560000</td>\n",
       "      <td>2.475000</td>\n",
       "      <td>0.430000</td>\n",
       "      <td>1.885000</td>\n",
       "      <td>3.400000</td>\n",
       "      <td>1.205000</td>\n",
       "      <td>3.160000</td>\n",
       "      <td>625.000000</td>\n",
       "    </tr>\n",
       "    <tr>\n",
       "      <th>max</th>\n",
       "      <td>2.0</td>\n",
       "      <td>13.860000</td>\n",
       "      <td>5.800000</td>\n",
       "      <td>3.230000</td>\n",
       "      <td>30.000000</td>\n",
       "      <td>162.000000</td>\n",
       "      <td>3.520000</td>\n",
       "      <td>5.080000</td>\n",
       "      <td>0.660000</td>\n",
       "      <td>3.580000</td>\n",
       "      <td>6.000000</td>\n",
       "      <td>1.710000</td>\n",
       "      <td>3.690000</td>\n",
       "      <td>985.000000</td>\n",
       "    </tr>\n",
       "  </tbody>\n",
       "</table>\n",
       "</div>"
      ],
      "text/plain": [
       "       Wine    Alcohol  Malic Acid        Ash  Alcalinity of ash   Magnesium  \\\n",
       "count  71.0  71.000000   71.000000  71.000000          71.000000   71.000000   \n",
       "mean    2.0  12.278732    1.932676   2.244789          20.238028   94.549296   \n",
       "std     0.0   0.537964    1.015569   0.315467           3.349770   16.753497   \n",
       "min     2.0  11.030000    0.740000   1.360000          10.600000   70.000000   \n",
       "25%     2.0  11.915000    1.270000   2.000000          18.000000   85.500000   \n",
       "50%     2.0  12.290000    1.610000   2.240000          20.000000   88.000000   \n",
       "75%     2.0  12.515000    2.145000   2.420000          22.000000   99.500000   \n",
       "max     2.0  13.860000    5.800000   3.230000          30.000000  162.000000   \n",
       "\n",
       "       Total phenols  Flavanoids  Nonflavanoid phenols  Proanthocyanins  \\\n",
       "count      71.000000   71.000000             71.000000        71.000000   \n",
       "mean        2.258873    2.080845              0.363662         1.630282   \n",
       "std         0.545361    0.705701              0.123961         0.602068   \n",
       "min         1.100000    0.570000              0.130000         0.410000   \n",
       "25%         1.895000    1.605000              0.270000         1.350000   \n",
       "50%         2.200000    2.030000              0.370000         1.610000   \n",
       "75%         2.560000    2.475000              0.430000         1.885000   \n",
       "max         3.520000    5.080000              0.660000         3.580000   \n",
       "\n",
       "       Color intensity        Hue  OD280/OD315 of diluted wines     Proline  \n",
       "count        71.000000  71.000000                     71.000000   71.000000  \n",
       "mean          3.086620   1.056282                      2.785352  519.507042  \n",
       "std           0.924929   0.202937                      0.496573  157.211220  \n",
       "min           1.280000   0.690000                      1.590000  278.000000  \n",
       "25%           2.535000   0.925000                      2.440000  406.500000  \n",
       "50%           2.900000   1.040000                      2.830000  495.000000  \n",
       "75%           3.400000   1.205000                      3.160000  625.000000  \n",
       "max           6.000000   1.710000                      3.690000  985.000000  "
      ]
     },
     "execution_count": 18,
     "metadata": {},
     "output_type": "execute_result"
    }
   ],
   "source": [
    "wine_2 = df[df[\"Wine\"]==2]\n",
    "\n",
    "wine_2.describe()"
   ]
  },
  {
   "cell_type": "code",
   "execution_count": 19,
   "id": "0264ec4c",
   "metadata": {},
   "outputs": [
    {
     "data": {
      "text/html": [
       "<div>\n",
       "<style scoped>\n",
       "    .dataframe tbody tr th:only-of-type {\n",
       "        vertical-align: middle;\n",
       "    }\n",
       "\n",
       "    .dataframe tbody tr th {\n",
       "        vertical-align: top;\n",
       "    }\n",
       "\n",
       "    .dataframe thead th {\n",
       "        text-align: right;\n",
       "    }\n",
       "</style>\n",
       "<table border=\"1\" class=\"dataframe\">\n",
       "  <thead>\n",
       "    <tr style=\"text-align: right;\">\n",
       "      <th></th>\n",
       "      <th>Wine</th>\n",
       "      <th>Alcohol</th>\n",
       "      <th>Malic Acid</th>\n",
       "      <th>Ash</th>\n",
       "      <th>Alcalinity of ash</th>\n",
       "      <th>Magnesium</th>\n",
       "      <th>Total phenols</th>\n",
       "      <th>Flavanoids</th>\n",
       "      <th>Nonflavanoid phenols</th>\n",
       "      <th>Proanthocyanins</th>\n",
       "      <th>Color intensity</th>\n",
       "      <th>Hue</th>\n",
       "      <th>OD280/OD315 of diluted wines</th>\n",
       "      <th>Proline</th>\n",
       "    </tr>\n",
       "  </thead>\n",
       "  <tbody>\n",
       "    <tr>\n",
       "      <th>count</th>\n",
       "      <td>48.0</td>\n",
       "      <td>48.000000</td>\n",
       "      <td>48.000000</td>\n",
       "      <td>48.000000</td>\n",
       "      <td>48.000000</td>\n",
       "      <td>48.000000</td>\n",
       "      <td>48.000000</td>\n",
       "      <td>48.000000</td>\n",
       "      <td>48.00000</td>\n",
       "      <td>48.000000</td>\n",
       "      <td>48.000000</td>\n",
       "      <td>48.000000</td>\n",
       "      <td>48.000000</td>\n",
       "      <td>48.000000</td>\n",
       "    </tr>\n",
       "    <tr>\n",
       "      <th>mean</th>\n",
       "      <td>3.0</td>\n",
       "      <td>13.153750</td>\n",
       "      <td>3.333750</td>\n",
       "      <td>2.437083</td>\n",
       "      <td>21.416667</td>\n",
       "      <td>99.312500</td>\n",
       "      <td>1.678750</td>\n",
       "      <td>0.781458</td>\n",
       "      <td>0.44750</td>\n",
       "      <td>1.153542</td>\n",
       "      <td>7.396250</td>\n",
       "      <td>0.682708</td>\n",
       "      <td>1.683542</td>\n",
       "      <td>629.895833</td>\n",
       "    </tr>\n",
       "    <tr>\n",
       "      <th>std</th>\n",
       "      <td>0.0</td>\n",
       "      <td>0.530241</td>\n",
       "      <td>1.087906</td>\n",
       "      <td>0.184690</td>\n",
       "      <td>2.258161</td>\n",
       "      <td>10.890473</td>\n",
       "      <td>0.356971</td>\n",
       "      <td>0.293504</td>\n",
       "      <td>0.12414</td>\n",
       "      <td>0.408836</td>\n",
       "      <td>2.310942</td>\n",
       "      <td>0.114441</td>\n",
       "      <td>0.272111</td>\n",
       "      <td>115.097043</td>\n",
       "    </tr>\n",
       "    <tr>\n",
       "      <th>min</th>\n",
       "      <td>3.0</td>\n",
       "      <td>12.200000</td>\n",
       "      <td>1.240000</td>\n",
       "      <td>2.100000</td>\n",
       "      <td>17.500000</td>\n",
       "      <td>80.000000</td>\n",
       "      <td>0.980000</td>\n",
       "      <td>0.340000</td>\n",
       "      <td>0.17000</td>\n",
       "      <td>0.550000</td>\n",
       "      <td>3.850000</td>\n",
       "      <td>0.480000</td>\n",
       "      <td>1.270000</td>\n",
       "      <td>415.000000</td>\n",
       "    </tr>\n",
       "    <tr>\n",
       "      <th>25%</th>\n",
       "      <td>3.0</td>\n",
       "      <td>12.805000</td>\n",
       "      <td>2.587500</td>\n",
       "      <td>2.300000</td>\n",
       "      <td>20.000000</td>\n",
       "      <td>89.750000</td>\n",
       "      <td>1.407500</td>\n",
       "      <td>0.580000</td>\n",
       "      <td>0.39750</td>\n",
       "      <td>0.855000</td>\n",
       "      <td>5.437500</td>\n",
       "      <td>0.587500</td>\n",
       "      <td>1.510000</td>\n",
       "      <td>545.000000</td>\n",
       "    </tr>\n",
       "    <tr>\n",
       "      <th>50%</th>\n",
       "      <td>3.0</td>\n",
       "      <td>13.165000</td>\n",
       "      <td>3.265000</td>\n",
       "      <td>2.380000</td>\n",
       "      <td>21.000000</td>\n",
       "      <td>97.000000</td>\n",
       "      <td>1.635000</td>\n",
       "      <td>0.685000</td>\n",
       "      <td>0.47000</td>\n",
       "      <td>1.105000</td>\n",
       "      <td>7.550000</td>\n",
       "      <td>0.665000</td>\n",
       "      <td>1.660000</td>\n",
       "      <td>627.500000</td>\n",
       "    </tr>\n",
       "    <tr>\n",
       "      <th>75%</th>\n",
       "      <td>3.0</td>\n",
       "      <td>13.505000</td>\n",
       "      <td>3.957500</td>\n",
       "      <td>2.602500</td>\n",
       "      <td>23.000000</td>\n",
       "      <td>106.000000</td>\n",
       "      <td>1.807500</td>\n",
       "      <td>0.920000</td>\n",
       "      <td>0.53000</td>\n",
       "      <td>1.350000</td>\n",
       "      <td>9.225000</td>\n",
       "      <td>0.752500</td>\n",
       "      <td>1.820000</td>\n",
       "      <td>695.000000</td>\n",
       "    </tr>\n",
       "    <tr>\n",
       "      <th>max</th>\n",
       "      <td>3.0</td>\n",
       "      <td>14.340000</td>\n",
       "      <td>5.650000</td>\n",
       "      <td>2.860000</td>\n",
       "      <td>27.000000</td>\n",
       "      <td>123.000000</td>\n",
       "      <td>2.800000</td>\n",
       "      <td>1.570000</td>\n",
       "      <td>0.63000</td>\n",
       "      <td>2.700000</td>\n",
       "      <td>13.000000</td>\n",
       "      <td>0.960000</td>\n",
       "      <td>2.470000</td>\n",
       "      <td>880.000000</td>\n",
       "    </tr>\n",
       "  </tbody>\n",
       "</table>\n",
       "</div>"
      ],
      "text/plain": [
       "       Wine    Alcohol  Malic Acid        Ash  Alcalinity of ash   Magnesium  \\\n",
       "count  48.0  48.000000   48.000000  48.000000          48.000000   48.000000   \n",
       "mean    3.0  13.153750    3.333750   2.437083          21.416667   99.312500   \n",
       "std     0.0   0.530241    1.087906   0.184690           2.258161   10.890473   \n",
       "min     3.0  12.200000    1.240000   2.100000          17.500000   80.000000   \n",
       "25%     3.0  12.805000    2.587500   2.300000          20.000000   89.750000   \n",
       "50%     3.0  13.165000    3.265000   2.380000          21.000000   97.000000   \n",
       "75%     3.0  13.505000    3.957500   2.602500          23.000000  106.000000   \n",
       "max     3.0  14.340000    5.650000   2.860000          27.000000  123.000000   \n",
       "\n",
       "       Total phenols  Flavanoids  Nonflavanoid phenols  Proanthocyanins  \\\n",
       "count      48.000000   48.000000              48.00000        48.000000   \n",
       "mean        1.678750    0.781458               0.44750         1.153542   \n",
       "std         0.356971    0.293504               0.12414         0.408836   \n",
       "min         0.980000    0.340000               0.17000         0.550000   \n",
       "25%         1.407500    0.580000               0.39750         0.855000   \n",
       "50%         1.635000    0.685000               0.47000         1.105000   \n",
       "75%         1.807500    0.920000               0.53000         1.350000   \n",
       "max         2.800000    1.570000               0.63000         2.700000   \n",
       "\n",
       "       Color intensity        Hue  OD280/OD315 of diluted wines     Proline  \n",
       "count        48.000000  48.000000                     48.000000   48.000000  \n",
       "mean          7.396250   0.682708                      1.683542  629.895833  \n",
       "std           2.310942   0.114441                      0.272111  115.097043  \n",
       "min           3.850000   0.480000                      1.270000  415.000000  \n",
       "25%           5.437500   0.587500                      1.510000  545.000000  \n",
       "50%           7.550000   0.665000                      1.660000  627.500000  \n",
       "75%           9.225000   0.752500                      1.820000  695.000000  \n",
       "max          13.000000   0.960000                      2.470000  880.000000  "
      ]
     },
     "execution_count": 19,
     "metadata": {},
     "output_type": "execute_result"
    }
   ],
   "source": [
    "wine_3 = df[df[\"Wine\"]==3]\n",
    "\n",
    "wine_3.describe()"
   ]
  },
  {
   "cell_type": "code",
   "execution_count": 20,
   "id": "2de06e8a",
   "metadata": {},
   "outputs": [
    {
     "data": {
      "image/png": "[encoded data removed]",
      "text/plain": [
       "<Figure size 432x288 with 1 Axes>"
      ]
     },
     "metadata": {
      "needs_background": "light"
     },
     "output_type": "display_data"
    }
   ],
   "source": [
    "ax = sns.boxplot(x=\"Wine\", y=\"Alcohol\", data=df, color = 'purple')"
   ]
  },
  {
   "cell_type": "code",
   "execution_count": null,
   "id": "6a1e8e43",
   "metadata": {},
   "outputs": [],
   "source": []
  },
  {
   "cell_type": "markdown",
   "id": "528d4167",
   "metadata": {},
   "source": [
    "------------------------------------------------MALIc ACID-----------------------------------------------------------"
   ]
  },
  {
   "cell_type": "code",
   "execution_count": 21,
   "id": "5dde5451",
   "metadata": {},
   "outputs": [
    {
     "name": "stdout",
     "output_type": "stream",
     "text": [
      "     Malic Acid  Wine\n",
      "113        0.74     2\n",
      "84         0.89     2\n",
      "76         0.90     2\n",
      "80         0.92     2\n",
      "68         0.94     2\n",
      "..          ...   ...\n",
      "146        5.04     3\n",
      "155        5.19     3\n",
      "137        5.51     3\n",
      "173        5.65     3\n",
      "123        5.80     2\n",
      "\n",
      "[178 rows x 2 columns]\n"
     ]
    }
   ],
   "source": [
    "malic_content = df[[\"Malic Acid\", \"Wine\"]].sort_values(by=['Malic Acid'])\n",
    "\n",
    "print(malic_content)"
   ]
  },
  {
   "cell_type": "code",
   "execution_count": 22,
   "id": "88a1bd12",
   "metadata": {},
   "outputs": [
    {
     "data": {
      "image/png": "[encoded data removed]",
      "text/plain": [
       "<Figure size 432x288 with 1 Axes>"
      ]
     },
     "metadata": {
      "needs_background": "light"
     },
     "output_type": "display_data"
    }
   ],
   "source": [
    "ax = sns.boxplot(x=\"Wine\", y=\"Malic Acid\", data=df)"
   ]
  },
  {
   "cell_type": "code",
   "execution_count": 23,
   "id": "c144eb77",
   "metadata": {
    "scrolled": true
   },
   "outputs": [
    {
     "data": {
      "image/png": "[encoded data removed]",
      "text/plain": [
       "<Figure size 432x288 with 1 Axes>"
      ]
     },
     "metadata": {
      "needs_background": "light"
     },
     "output_type": "display_data"
    }
   ],
   "source": [
    "a1 = df.loc[df[\"Wine\"]==1, 'Malic Acid']\n",
    "a2 = df.loc[df[\"Wine\"]==2, 'Malic Acid']\n",
    "a3 = df.loc[df[\"Wine\"]==3, 'Malic Acid']\n",
    "\n",
    "hist = dict(alpha=0.6, bins=25)\n",
    "\n",
    "plt.hist(a1, **hist, color='g', label = 'Tipe 1')\n",
    "plt.hist(a2, **hist, color='b', label = 'Tipe 2')\n",
    "plt.hist(a3, **hist, color='r', label = 'Tipe 3')\n",
    "plt.gca().set(title='Persebaran Malic Acid', xlabel = 'Malic Acid', ylabel = 'Frekuensi')\n",
    "\n",
    "plt.legend();"
   ]
  },
  {
   "cell_type": "code",
   "execution_count": 24,
   "id": "81301739",
   "metadata": {},
   "outputs": [
    {
     "data": {
      "image/png": "[encoded data removed]",
      "text/plain": [
       "<Figure size 432x288 with 1 Axes>"
      ]
     },
     "metadata": {
      "needs_background": "light"
     },
     "output_type": "display_data"
    }
   ],
   "source": [
    "ax = sns.boxplot(x=\"Wine\", y=\"Malic Acid\", data=df, color = 'red').set_title(\"Persebaran Malic Acid\")"
   ]
  },
  {
   "cell_type": "code",
   "execution_count": 25,
   "id": "d258783f",
   "metadata": {},
   "outputs": [
    {
     "data": {
      "text/plain": [
       "<AxesSubplot:xlabel='Malic Acid', ylabel='Wine'>"
      ]
     },
     "execution_count": 25,
     "metadata": {},
     "output_type": "execute_result"
    },
    {
     "data": {
      "image/png": "[encoded data removed]",
      "text/plain": [
       "<Figure size 432x288 with 1 Axes>"
      ]
     },
     "metadata": {
      "needs_background": "light"
     },
     "output_type": "display_data"
    }
   ],
   "source": [
    "df.plot.scatter(x = 'Malic Acid', y = 'Wine')"
   ]
  },
  {
   "cell_type": "markdown",
   "id": "67d99c85",
   "metadata": {},
   "source": [
    "---------------------------ASH------------------------"
   ]
  },
  {
   "cell_type": "code",
   "execution_count": 26,
   "id": "29609e46",
   "metadata": {},
   "outputs": [
    {
     "name": "stdout",
     "output_type": "stream",
     "text": [
      "      Ash  Wine\n",
      "59   1.36     2\n",
      "100  1.70     2\n",
      "66   1.70     2\n",
      "76   1.71     2\n",
      "69   1.75     2\n",
      "..    ...   ...\n",
      "169  2.86     3\n",
      "4    2.87     1\n",
      "112  2.92     2\n",
      "25   3.22     1\n",
      "121  3.23     2\n",
      "\n",
      "[178 rows x 2 columns]\n"
     ]
    }
   ],
   "source": [
    "ash_content = df[[\"Ash\", \"Wine\"]].sort_values(by=['Ash'])\n",
    "\n",
    "print(ash_content)"
   ]
  },
  {
   "cell_type": "code",
   "execution_count": 27,
   "id": "4d03e38e",
   "metadata": {},
   "outputs": [
    {
     "data": {
      "image/png": "[encoded data removed]",
      "text/plain": [
       "<Figure size 432x288 with 1 Axes>"
      ]
     },
     "metadata": {
      "needs_background": "light"
     },
     "output_type": "display_data"
    }
   ],
   "source": [
    "a1 = df.loc[df[\"Wine\"]==1, 'Ash']\n",
    "a2 = df.loc[df[\"Wine\"]==2, 'Ash']\n",
    "a3 = df.loc[df[\"Wine\"]==3, 'Ash']\n",
    "\n",
    "hist = dict(alpha=0.6, bins=25)\n",
    "\n",
    "plt.hist(a1, **hist, color='g', label = 'Tipe 1')\n",
    "plt.hist(a2, **hist, color='b', label = 'Tipe 2')\n",
    "plt.hist(a3, **hist, color='r', label = 'Tipe 3')\n",
    "plt.gca().set(title='Persebaran Ash', xlabel = 'Ash', ylabel = 'Frekuensi')\n",
    "\n",
    "plt.legend();"
   ]
  },
  {
   "cell_type": "code",
   "execution_count": 28,
   "id": "c8b14f0a",
   "metadata": {},
   "outputs": [
    {
     "data": {
      "image/png": "[encoded data removed]",
      "text/plain": [
       "<Figure size 432x288 with 1 Axes>"
      ]
     },
     "metadata": {
      "needs_background": "light"
     },
     "output_type": "display_data"
    }
   ],
   "source": [
    "ax = sns.boxplot(x=\"Wine\", y=\"Ash\", data=df, color = 'cyan').set_title(\"Range Ash\")"
   ]
  },
  {
   "cell_type": "code",
   "execution_count": 29,
   "id": "3ef6c798",
   "metadata": {
    "scrolled": true
   },
   "outputs": [
    {
     "data": {
      "text/plain": [
       "<AxesSubplot:xlabel='Ash', ylabel='Wine'>"
      ]
     },
     "execution_count": 29,
     "metadata": {},
     "output_type": "execute_result"
    },
    {
     "data": {
      "image/png": "[encoded data removed]",
      "text/plain": [
       "<Figure size 432x288 with 1 Axes>"
      ]
     },
     "metadata": {
      "needs_background": "light"
     },
     "output_type": "display_data"
    }
   ],
   "source": [
    "df.plot.scatter(x = 'Ash', y = 'Wine')"
   ]
  },
  {
   "cell_type": "markdown",
   "id": "59cbf98c",
   "metadata": {},
   "source": [
    "---------------------------alkanity of ash------------------------"
   ]
  },
  {
   "cell_type": "code",
   "execution_count": 30,
   "id": "d3cbafb2",
   "metadata": {},
   "outputs": [
    {
     "name": "stdout",
     "output_type": "stream",
     "text": [
      "     Alcalinity of ash  Wine\n",
      "59                10.6     2\n",
      "1                 11.2     1\n",
      "13                11.4     1\n",
      "14                12.0     1\n",
      "50                12.4     1\n",
      "..                 ...   ...\n",
      "122               26.5     2\n",
      "157               27.0     3\n",
      "121               28.5     2\n",
      "127               28.5     2\n",
      "73                30.0     2\n",
      "\n",
      "[178 rows x 2 columns]\n"
     ]
    }
   ],
   "source": [
    "alcalinity_content = df[[\"Alcalinity of ash\", \"Wine\"]].sort_values(by=['Alcalinity of ash'])\n",
    "\n",
    "print(alcalinity_content)"
   ]
  },
  {
   "cell_type": "code",
   "execution_count": 31,
   "id": "015f5b42",
   "metadata": {},
   "outputs": [
    {
     "data": {
      "image/png": "[encoded data removed]",
      "text/plain": [
       "<Figure size 432x288 with 1 Axes>"
      ]
     },
     "metadata": {
      "needs_background": "light"
     },
     "output_type": "display_data"
    }
   ],
   "source": [
    "ax = sns.boxplot(x=\"Wine\", y=\"Alcalinity of ash\", data=df, color = 'grey').set_title(\"Range Alcalinity of Ash\")"
   ]
  },
  {
   "cell_type": "code",
   "execution_count": 32,
   "id": "ad9e78a2",
   "metadata": {},
   "outputs": [
    {
     "data": {
      "text/plain": [
       "<AxesSubplot:xlabel='Alcalinity of ash', ylabel='Wine'>"
      ]
     },
     "execution_count": 32,
     "metadata": {},
     "output_type": "execute_result"
    },
    {
     "data": {
      "image/png": "[encoded data removed]",
      "text/plain": [
       "<Figure size 432x288 with 1 Axes>"
      ]
     },
     "metadata": {
      "needs_background": "light"
     },
     "output_type": "display_data"
    }
   ],
   "source": [
    "df.plot.scatter(x = 'Alcalinity of ash', y = 'Wine')"
   ]
  },
  {
   "cell_type": "markdown",
   "id": "7a96f769",
   "metadata": {},
   "source": [
    "---------------------------magnesium------------------------"
   ]
  },
  {
   "cell_type": "code",
   "execution_count": 33,
   "id": "34bfb2e5",
   "metadata": {},
   "outputs": [
    {
     "name": "stdout",
     "output_type": "stream",
     "text": [
      "     Magnesium  Wine\n",
      "89          70     2\n",
      "82          78     2\n",
      "67          78     2\n",
      "66          78     2\n",
      "118         80     2\n",
      "..         ...   ...\n",
      "96         134     2\n",
      "78         136     2\n",
      "73         139     2\n",
      "69         151     2\n",
      "95         162     2\n",
      "\n",
      "[178 rows x 2 columns]\n"
     ]
    }
   ],
   "source": [
    "magnesium_content = df[[\"Magnesium\", \"Wine\"]].sort_values(by=['Magnesium'])\n",
    "\n",
    "print(magnesium_content)"
   ]
  },
  {
   "cell_type": "code",
   "execution_count": 77,
   "id": "a176d4b4",
   "metadata": {},
   "outputs": [
    {
     "data": {
      "image/png": "[encoded data removed]",
      "text/plain": [
       "<Figure size 432x288 with 1 Axes>"
      ]
     },
     "metadata": {
      "needs_background": "light"
     },
     "output_type": "display_data"
    }
   ],
   "source": [
    "ax = sns.boxplot(x=\"Wine\", y=\"Magnesium\", data=df, color = 'purple').set_title(\"Range Magnesium\")"
   ]
  },
  {
   "cell_type": "code",
   "execution_count": 35,
   "id": "5d6889c5",
   "metadata": {},
   "outputs": [
    {
     "data": {
      "text/plain": [
       "<AxesSubplot:xlabel='Magnesium', ylabel='Wine'>"
      ]
     },
     "execution_count": 35,
     "metadata": {},
     "output_type": "execute_result"
    },
    {
     "data": {
      "image/png": "[encoded data removed]",
      "text/plain": [
       "<Figure size 432x288 with 1 Axes>"
      ]
     },
     "metadata": {
      "needs_background": "light"
     },
     "output_type": "display_data"
    }
   ],
   "source": [
    "df.plot.scatter(x = 'Magnesium', y = 'Wine')"
   ]
  },
  {
   "cell_type": "markdown",
   "id": "1bbb9e85",
   "metadata": {},
   "source": [
    "---------------------------Phenols------------------------"
   ]
  },
  {
   "cell_type": "code",
   "execution_count": 36,
   "id": "102a56ae",
   "metadata": {},
   "outputs": [
    {
     "name": "stdout",
     "output_type": "stream",
     "text": [
      "     Total phenols  Wine\n",
      "146           0.98     3\n",
      "70            1.10     2\n",
      "132           1.15     3\n",
      "170           1.25     3\n",
      "165           1.28     3\n",
      "..             ...   ...\n",
      "58            3.40     1\n",
      "63            3.50     2\n",
      "98            3.52     2\n",
      "3             3.85     1\n",
      "52            3.88     1\n",
      "\n",
      "[178 rows x 2 columns]\n"
     ]
    }
   ],
   "source": [
    "phenols_content = df[[\"Total phenols\", \"Wine\"]].sort_values(by=['Total phenols'])\n",
    "\n",
    "print(phenols_content)"
   ]
  },
  {
   "cell_type": "code",
   "execution_count": 37,
   "id": "c123b4b3",
   "metadata": {},
   "outputs": [
    {
     "data": {
      "image/png": "[encoded data removed]",
      "text/plain": [
       "<Figure size 432x288 with 1 Axes>"
      ]
     },
     "metadata": {
      "needs_background": "light"
     },
     "output_type": "display_data"
    }
   ],
   "source": [
    "ax = sns.boxplot(x=\"Wine\", y=\"Total phenols\", data=df, color = 'pink').set_title(\"Persebaran Total Phenols\")"
   ]
  },
  {
   "cell_type": "code",
   "execution_count": 38,
   "id": "e3dd2551",
   "metadata": {},
   "outputs": [
    {
     "data": {
      "image/png": "[encoded data removed]",
      "text/plain": [
       "<Figure size 432x288 with 1 Axes>"
      ]
     },
     "metadata": {
      "needs_background": "light"
     },
     "output_type": "display_data"
    }
   ],
   "source": [
    "a1 = df.loc[df[\"Wine\"]==1, 'Total phenols']\n",
    "a2 = df.loc[df[\"Wine\"]==2, 'Total phenols']\n",
    "a3 = df.loc[df[\"Wine\"]==3, 'Total phenols']\n",
    "\n",
    "hist = dict(alpha=0.6, bins=25)\n",
    "\n",
    "plt.hist(a1, **hist, color='g', label = 'Tipe 1')\n",
    "plt.hist(a2, **hist, color='b', label = 'Tipe 2')\n",
    "plt.hist(a3, **hist, color='r', label = 'Tipe 3')\n",
    "plt.gca().set(title='Persebaran Total Phenols', xlabel = 'Total phenols', ylabel = 'Frekuensi')\n",
    "\n",
    "plt.legend();"
   ]
  },
  {
   "cell_type": "code",
   "execution_count": 39,
   "id": "28ddf1aa",
   "metadata": {},
   "outputs": [
    {
     "data": {
      "text/plain": [
       "<AxesSubplot:xlabel='Total phenols', ylabel='Wine'>"
      ]
     },
     "execution_count": 39,
     "metadata": {},
     "output_type": "execute_result"
    },
    {
     "data": {
      "image/png": "[encoded data removed]",
      "text/plain": [
       "<Figure size 432x288 with 1 Axes>"
      ]
     },
     "metadata": {
      "needs_background": "light"
     },
     "output_type": "display_data"
    }
   ],
   "source": [
    "df.plot.scatter(x = 'Total phenols', y = 'Wine')"
   ]
  },
  {
   "cell_type": "code",
   "execution_count": 40,
   "id": "27c99570",
   "metadata": {},
   "outputs": [
    {
     "name": "stdout",
     "output_type": "stream",
     "text": [
      "     Flavanoids  Wine\n",
      "146        0.34     3\n",
      "136        0.47     3\n",
      "165        0.47     3\n",
      "138        0.48     3\n",
      "170        0.49     3\n",
      "..          ...   ...\n",
      "13         3.69     1\n",
      "52         3.74     1\n",
      "98         3.75     2\n",
      "18         3.93     1\n",
      "121        5.08     2\n",
      "\n",
      "[178 rows x 2 columns]\n"
     ]
    }
   ],
   "source": [
    "flavanoids_content = df[[\"Flavanoids\", \"Wine\"]].sort_values(by=['Flavanoids'])\n",
    "\n",
    "print(flavanoids_content)"
   ]
  },
  {
   "cell_type": "code",
   "execution_count": 79,
   "id": "6999da91",
   "metadata": {},
   "outputs": [
    {
     "data": {
      "image/png": "[encoded data removed]",
      "text/plain": [
       "<Figure size 432x288 with 1 Axes>"
      ]
     },
     "metadata": {
      "needs_background": "light"
     },
     "output_type": "display_data"
    }
   ],
   "source": [
    "ax = sns.boxplot(x=\"Wine\", y=\"Flavanoids\", data=df, color = 'purple').set_title(\"Range flavanoids\")"
   ]
  },
  {
   "cell_type": "code",
   "execution_count": 42,
   "id": "dfa75acb",
   "metadata": {},
   "outputs": [
    {
     "data": {
      "text/plain": [
       "<AxesSubplot:xlabel='Flavanoids', ylabel='Wine'>"
      ]
     },
     "execution_count": 42,
     "metadata": {},
     "output_type": "execute_result"
    },
    {
     "data": {
      "image/png": "[encoded data removed]",
      "text/plain": [
       "<Figure size 432x288 with 1 Axes>"
      ]
     },
     "metadata": {
      "needs_background": "light"
     },
     "output_type": "display_data"
    }
   ],
   "source": [
    "df.plot.scatter(x = 'Flavanoids', y = 'Wine')"
   ]
  },
  {
   "cell_type": "code",
   "execution_count": null,
   "id": "bf5ee1d0",
   "metadata": {},
   "outputs": [],
   "source": []
  },
  {
   "cell_type": "code",
   "execution_count": 43,
   "id": "cb7fda07",
   "metadata": {
    "scrolled": true
   },
   "outputs": [
    {
     "name": "stdout",
     "output_type": "stream",
     "text": [
      "     Nonflavanoid phenols  Wine\n",
      "74                   0.13     2\n",
      "69                   0.14     2\n",
      "96                   0.14     2\n",
      "50                   0.17     1\n",
      "133                  0.17     3\n",
      "..                    ...   ...\n",
      "157                  0.63     3\n",
      "137                  0.63     3\n",
      "60                   0.63     2\n",
      "135                  0.63     3\n",
      "105                  0.66     2\n",
      "\n",
      "[178 rows x 2 columns]\n"
     ]
    }
   ],
   "source": [
    "nonflavanoids_content = df[[\"Nonflavanoid phenols\", \"Wine\"]].sort_values(by=['Nonflavanoid phenols'])\n",
    "\n",
    "print(nonflavanoids_content)"
   ]
  },
  {
   "cell_type": "code",
   "execution_count": 44,
   "id": "05fbc694",
   "metadata": {},
   "outputs": [
    {
     "data": {
      "image/png": "[encoded data removed]",
      "text/plain": [
       "<Figure size 432x288 with 1 Axes>"
      ]
     },
     "metadata": {
      "needs_background": "light"
     },
     "output_type": "display_data"
    }
   ],
   "source": [
    "ax = sns.boxplot(x=\"Wine\", y=\"Nonflavanoid phenols\", data=df)"
   ]
  },
  {
   "cell_type": "code",
   "execution_count": 45,
   "id": "2e3174d6",
   "metadata": {},
   "outputs": [
    {
     "data": {
      "text/plain": [
       "<AxesSubplot:xlabel='Nonflavanoid phenols', ylabel='Wine'>"
      ]
     },
     "execution_count": 45,
     "metadata": {},
     "output_type": "execute_result"
    },
    {
     "data": {
      "image/png": "[encoded data removed]",
      "text/plain": [
       "<Figure size 432x288 with 1 Axes>"
      ]
     },
     "metadata": {
      "needs_background": "light"
     },
     "output_type": "display_data"
    }
   ],
   "source": [
    "df.plot.scatter(x = 'Nonflavanoid phenols', y = 'Wine')"
   ]
  },
  {
   "cell_type": "code",
   "execution_count": 46,
   "id": "a3d81f84",
   "metadata": {},
   "outputs": [
    {
     "name": "stdout",
     "output_type": "stream",
     "text": [
      "     Proanthocyanins  Wine\n",
      "60              0.41     2\n",
      "59              0.42     2\n",
      "68              0.42     2\n",
      "142             0.55     3\n",
      "61              0.62     2\n",
      "..               ...   ...\n",
      "50              2.91     1\n",
      "124             2.91     2\n",
      "14              2.96     1\n",
      "95              3.28     2\n",
      "110             3.58     2\n",
      "\n",
      "[178 rows x 2 columns]\n"
     ]
    }
   ],
   "source": [
    "proanthocyanins_content = df[[\"Proanthocyanins\", \"Wine\"]].sort_values(by=['Proanthocyanins'])\n",
    "\n",
    "print(proanthocyanins_content)"
   ]
  },
  {
   "cell_type": "code",
   "execution_count": 47,
   "id": "522d9787",
   "metadata": {},
   "outputs": [
    {
     "data": {
      "image/png": "[encoded data removed]",
      "text/plain": [
       "<Figure size 432x288 with 1 Axes>"
      ]
     },
     "metadata": {
      "needs_background": "light"
     },
     "output_type": "display_data"
    }
   ],
   "source": [
    "ax = sns.boxplot(x=\"Wine\", y=\"Proanthocyanins\", data=df)"
   ]
  },
  {
   "cell_type": "code",
   "execution_count": 48,
   "id": "7569fee2",
   "metadata": {},
   "outputs": [
    {
     "data": {
      "text/plain": [
       "<AxesSubplot:xlabel='Proanthocyanins', ylabel='Wine'>"
      ]
     },
     "execution_count": 48,
     "metadata": {},
     "output_type": "execute_result"
    },
    {
     "data": {
      "image/png": "[encoded data removed]",
      "text/plain": [
       "<Figure size 432x288 with 1 Axes>"
      ]
     },
     "metadata": {
      "needs_background": "light"
     },
     "output_type": "display_data"
    }
   ],
   "source": [
    "df.plot.scatter(x = 'Proanthocyanins', y = 'Wine')"
   ]
  },
  {
   "cell_type": "code",
   "execution_count": 49,
   "id": "53682487",
   "metadata": {},
   "outputs": [
    {
     "name": "stdout",
     "output_type": "stream",
     "text": [
      "     Color intensity  Wine\n",
      "119             1.28     2\n",
      "89              1.74     2\n",
      "115             1.90     2\n",
      "116             1.95     2\n",
      "59              1.95     2\n",
      "..               ...   ...\n",
      "153            10.52     3\n",
      "166            10.68     3\n",
      "151            10.80     3\n",
      "159            11.75     3\n",
      "158            13.00     3\n",
      "\n",
      "[178 rows x 2 columns]\n"
     ]
    }
   ],
   "source": [
    "color_content = df[[\"Color intensity\", \"Wine\"]].sort_values(by=['Color intensity'])\n",
    "\n",
    "print(color_content)"
   ]
  },
  {
   "cell_type": "code",
   "execution_count": 50,
   "id": "85ec4ca3",
   "metadata": {},
   "outputs": [
    {
     "data": {
      "image/png": "[encoded data removed]",
      "text/plain": [
       "<Figure size 432x288 with 1 Axes>"
      ]
     },
     "metadata": {
      "needs_background": "light"
     },
     "output_type": "display_data"
    }
   ],
   "source": [
    "ax = sns.boxplot(x=\"Wine\", y=\"Color intensity\", data=df, color = \"brown\").set_title(\"Range Color Intensity\")"
   ]
  },
  {
   "cell_type": "code",
   "execution_count": 51,
   "id": "86b5b208",
   "metadata": {},
   "outputs": [
    {
     "data": {
      "text/plain": [
       "<AxesSubplot:xlabel='Color intensity', ylabel='Wine'>"
      ]
     },
     "execution_count": 51,
     "metadata": {},
     "output_type": "execute_result"
    },
    {
     "data": {
      "image/png": "[encoded data removed]",
      "text/plain": [
       "<Figure size 432x288 with 1 Axes>"
      ]
     },
     "metadata": {
      "needs_background": "light"
     },
     "output_type": "display_data"
    }
   ],
   "source": [
    "df.plot.scatter(x = 'Color intensity', y = 'Wine')"
   ]
  },
  {
   "cell_type": "code",
   "execution_count": 52,
   "id": "5dd01f5c",
   "metadata": {},
   "outputs": [
    {
     "name": "stdout",
     "output_type": "stream",
     "text": [
      "      Hue  Wine\n",
      "151  0.48     3\n",
      "147  0.54     3\n",
      "148  0.55     3\n",
      "153  0.56     3\n",
      "160  0.56     3\n",
      "..    ...   ...\n",
      "87   1.36     2\n",
      "80   1.38     2\n",
      "99   1.42     2\n",
      "64   1.45     2\n",
      "115  1.71     2\n",
      "\n",
      "[178 rows x 2 columns]\n"
     ]
    }
   ],
   "source": [
    "hue_content = df[[\"Hue\", \"Wine\"]].sort_values(by=['Hue'])\n",
    "\n",
    "print(hue_content)"
   ]
  },
  {
   "cell_type": "code",
   "execution_count": 53,
   "id": "dbe39e6b",
   "metadata": {},
   "outputs": [
    {
     "data": {
      "image/png": "[encoded data removed]",
      "text/plain": [
       "<Figure size 432x288 with 1 Axes>"
      ]
     },
     "metadata": {
      "needs_background": "light"
     },
     "output_type": "display_data"
    }
   ],
   "source": [
    "ax = sns.boxplot(x=\"Wine\", y=\"Hue\", data=df, color = \"gold\").set_title(\"Range Hue\")"
   ]
  },
  {
   "cell_type": "code",
   "execution_count": 54,
   "id": "7cf284d2",
   "metadata": {},
   "outputs": [
    {
     "data": {
      "text/plain": [
       "<AxesSubplot:xlabel='Hue', ylabel='Wine'>"
      ]
     },
     "execution_count": 54,
     "metadata": {},
     "output_type": "execute_result"
    },
    {
     "data": {
      "image/png": "[encoded data removed]",
      "text/plain": [
       "<Figure size 432x288 with 1 Axes>"
      ]
     },
     "metadata": {
      "needs_background": "light"
     },
     "output_type": "display_data"
    }
   ],
   "source": [
    "df.plot.scatter(x = 'Hue', y = 'Wine')"
   ]
  },
  {
   "cell_type": "code",
   "execution_count": 55,
   "id": "7d256d2d",
   "metadata": {},
   "outputs": [
    {
     "name": "stdout",
     "output_type": "stream",
     "text": [
      "     OD280/OD315 of diluted wines  Wine\n",
      "136                          1.27     3\n",
      "133                          1.29     3\n",
      "130                          1.29     3\n",
      "150                          1.30     3\n",
      "146                          1.33     3\n",
      "..                            ...   ...\n",
      "121                          3.69     2\n",
      "20                           3.71     1\n",
      "24                           3.82     1\n",
      "0                            3.92     1\n",
      "22                           4.00     1\n",
      "\n",
      "[178 rows x 2 columns]\n"
     ]
    }
   ],
   "source": [
    "od_content = df[[\"OD280/OD315 of diluted wines\", \"Wine\"]].sort_values(by=['OD280/OD315 of diluted wines'])\n",
    "\n",
    "print(od_content)"
   ]
  },
  {
   "cell_type": "code",
   "execution_count": 80,
   "id": "7e1262a9",
   "metadata": {},
   "outputs": [
    {
     "data": {
      "image/png": "[encoded data removed]",
      "text/plain": [
       "<Figure size 432x288 with 1 Axes>"
      ]
     },
     "metadata": {
      "needs_background": "light"
     },
     "output_type": "display_data"
    }
   ],
   "source": [
    "ax = sns.boxplot(x=\"Wine\", y=\"OD280/OD315 of diluted wines\", data=df, color = 'purple').set_title(\"Range Protein\")"
   ]
  },
  {
   "cell_type": "code",
   "execution_count": 57,
   "id": "b6a7b70b",
   "metadata": {},
   "outputs": [
    {
     "data": {
      "text/plain": [
       "<AxesSubplot:xlabel='OD280/OD315 of diluted wines', ylabel='Wine'>"
      ]
     },
     "execution_count": 57,
     "metadata": {},
     "output_type": "execute_result"
    },
    {
     "data": {
      "image/png": "[encoded data removed]",
      "text/plain": [
       "<Figure size 432x288 with 1 Axes>"
      ]
     },
     "metadata": {
      "needs_background": "light"
     },
     "output_type": "display_data"
    }
   ],
   "source": [
    "df.plot.scatter(x = 'OD280/OD315 of diluted wines', y = 'Wine')"
   ]
  },
  {
   "cell_type": "code",
   "execution_count": 58,
   "id": "1a12001c",
   "metadata": {},
   "outputs": [
    {
     "name": "stdout",
     "output_type": "stream",
     "text": [
      "     Proline  Wine\n",
      "80       278     2\n",
      "93       290     2\n",
      "108      312     2\n",
      "105      315     2\n",
      "111      325     2\n",
      "..       ...   ...\n",
      "3       1480     1\n",
      "10      1510     1\n",
      "31      1515     1\n",
      "14      1547     1\n",
      "18      1680     1\n",
      "\n",
      "[178 rows x 2 columns]\n"
     ]
    }
   ],
   "source": [
    "proline_content = df[[\"Proline\", \"Wine\"]].sort_values(by=['Proline'])\n",
    "\n",
    "print(proline_content)"
   ]
  },
  {
   "cell_type": "code",
   "execution_count": 81,
   "id": "6ed9a4cd",
   "metadata": {},
   "outputs": [
    {
     "data": {
      "image/png": "[encoded data removed]",
      "text/plain": [
       "<Figure size 432x288 with 1 Axes>"
      ]
     },
     "metadata": {
      "needs_background": "light"
     },
     "output_type": "display_data"
    }
   ],
   "source": [
    "ax = sns.boxplot(x=\"Wine\", y=\"Proline\", data=df, color = 'purple').set_title(\"Range Proline\")"
   ]
  },
  {
   "cell_type": "code",
   "execution_count": 60,
   "id": "41dc6797",
   "metadata": {},
   "outputs": [
    {
     "data": {
      "text/plain": [
       "<AxesSubplot:xlabel='Proline', ylabel='Wine'>"
      ]
     },
     "execution_count": 60,
     "metadata": {},
     "output_type": "execute_result"
    },
    {
     "data": {
      "image/png": "[encoded data removed]",
      "text/plain": [
       "<Figure size 432x288 with 1 Axes>"
      ]
     },
     "metadata": {
      "needs_background": "light"
     },
     "output_type": "display_data"
    }
   ],
   "source": [
    "df.plot.scatter(x = 'Proline', y = 'Wine')"
   ]
  },
  {
   "cell_type": "code",
   "execution_count": 61,
   "id": "338e8c68",
   "metadata": {},
   "outputs": [
    {
     "data": {
      "image/png": "[encoded data removed]",
      "text/plain": [
       "<Figure size 432x288 with 1 Axes>"
      ]
     },
     "metadata": {
      "needs_background": "light"
     },
     "output_type": "display_data"
    }
   ],
   "source": [
    "a1 = df.loc[df[\"Wine\"]==1, 'Nonflavanoid phenols']\n",
    "a2 = df.loc[df[\"Wine\"]==2, 'Nonflavanoid phenols']\n",
    "a3 = df.loc[df[\"Wine\"]==3, 'Nonflavanoid phenols']\n",
    "\n",
    "hist = dict(alpha=0.6, bins=25)\n",
    "\n",
    "plt.hist(a1, **hist, color='g', label = 'Tipe 1')\n",
    "plt.hist(a2, **hist, color='b', label = 'Tipe 2')\n",
    "plt.hist(a3, **hist, color='r', label = 'Tipe 3')\n",
    "plt.gca().set(title='Persebaran Nonflavanoid Phenols', xlabel = 'Nonflavanoid phenols', ylabel = 'Frekuensi')\n",
    "\n",
    "plt.legend();"
   ]
  },
  {
   "cell_type": "code",
   "execution_count": 62,
   "id": "e49e011c",
   "metadata": {},
   "outputs": [
    {
     "data": {
      "image/png": "[encoded data removed]",
      "text/plain": [
       "<Figure size 432x288 with 1 Axes>"
      ]
     },
     "metadata": {
      "needs_background": "light"
     },
     "output_type": "display_data"
    }
   ],
   "source": [
    "ax = sns.boxplot(x=\"Wine\", y=\"Nonflavanoid phenols\", data=df, color = 'magenta').set_title('Nonflavanoid phenols')"
   ]
  },
  {
   "cell_type": "code",
   "execution_count": 63,
   "id": "e88127fb",
   "metadata": {},
   "outputs": [
    {
     "data": {
      "image/png": "[encoded data removed]",
      "text/plain": [
       "<Figure size 432x288 with 1 Axes>"
      ]
     },
     "metadata": {
      "needs_background": "light"
     },
     "output_type": "display_data"
    }
   ],
   "source": [
    "b1 = df.loc[df[\"Wine\"]==1, 'Proanthocyanins']\n",
    "b2 = df.loc[df[\"Wine\"]==2, 'Proanthocyanins']\n",
    "b3 = df.loc[df[\"Wine\"]==3, 'Proanthocyanins']\n",
    "\n",
    "hist = dict(alpha=0.6, bins=25)\n",
    "\n",
    "plt.hist(b1, **hist, color='g', label = 'Tipe 1')\n",
    "plt.hist(b2, **hist, color='b', label = 'Tipe 2')\n",
    "plt.hist(b3, **hist, color='r', label = 'Tipe 3')\n",
    "plt.gca().set(title='Persebaran Proanthocyanins', xlabel = 'Proanthocyanins', ylabel = 'Frekuensi')\n",
    "\n",
    "plt.legend();"
   ]
  },
  {
   "cell_type": "code",
   "execution_count": 64,
   "id": "7b17d14f",
   "metadata": {},
   "outputs": [
    {
     "data": {
      "image/png": "[encoded data removed]",
      "text/plain": [
       "<Figure size 432x288 with 1 Axes>"
      ]
     },
     "metadata": {
      "needs_background": "light"
     },
     "output_type": "display_data"
    }
   ],
   "source": [
    "ax = sns.boxplot(x=\"Wine\", y=\"Proanthocyanins\", data=df, color = 'magenta').set_title('Proanthocyanins')"
   ]
  },
  {
   "cell_type": "code",
   "execution_count": 65,
   "id": "b73812b5",
   "metadata": {},
   "outputs": [
    {
     "data": {
      "image/png": "[encoded data removed]",
      "text/plain": [
       "<Figure size 402.375x360 with 1 Axes>"
      ]
     },
     "metadata": {
      "needs_background": "light"
     },
     "output_type": "display_data"
    }
   ],
   "source": [
    "sns.lmplot(x=\"Nonflavanoid phenols\", y=\"Proanthocyanins\", hue=\"Wine\", data=df);"
   ]
  },
  {
   "cell_type": "code",
   "execution_count": 66,
   "id": "988a9d27",
   "metadata": {},
   "outputs": [
    {
     "data": {
      "text/html": [
       "<div>\n",
       "<style scoped>\n",
       "    .dataframe tbody tr th:only-of-type {\n",
       "        vertical-align: middle;\n",
       "    }\n",
       "\n",
       "    .dataframe tbody tr th {\n",
       "        vertical-align: top;\n",
       "    }\n",
       "\n",
       "    .dataframe thead th {\n",
       "        text-align: right;\n",
       "    }\n",
       "</style>\n",
       "<table border=\"1\" class=\"dataframe\">\n",
       "  <thead>\n",
       "    <tr style=\"text-align: right;\">\n",
       "      <th></th>\n",
       "      <th>Wine</th>\n",
       "      <th>Alcohol</th>\n",
       "      <th>Malic Acid</th>\n",
       "      <th>Ash</th>\n",
       "      <th>Alcalinity of ash</th>\n",
       "      <th>Magnesium</th>\n",
       "      <th>Total phenols</th>\n",
       "      <th>Flavanoids</th>\n",
       "      <th>Nonflavanoid phenols</th>\n",
       "      <th>Proanthocyanins</th>\n",
       "      <th>Color intensity</th>\n",
       "      <th>Hue</th>\n",
       "      <th>OD280/OD315 of diluted wines</th>\n",
       "      <th>Proline</th>\n",
       "    </tr>\n",
       "  </thead>\n",
       "  <tbody>\n",
       "    <tr>\n",
       "      <th>Wine</th>\n",
       "      <td>1.00</td>\n",
       "      <td>-0.33</td>\n",
       "      <td>0.44</td>\n",
       "      <td>-0.05</td>\n",
       "      <td>0.52</td>\n",
       "      <td>-0.21</td>\n",
       "      <td>-0.72</td>\n",
       "      <td>-0.85</td>\n",
       "      <td>0.49</td>\n",
       "      <td>-0.50</td>\n",
       "      <td>0.27</td>\n",
       "      <td>-0.62</td>\n",
       "      <td>-0.79</td>\n",
       "      <td>-0.63</td>\n",
       "    </tr>\n",
       "    <tr>\n",
       "      <th>Alcohol</th>\n",
       "      <td>-0.33</td>\n",
       "      <td>1.00</td>\n",
       "      <td>0.09</td>\n",
       "      <td>0.21</td>\n",
       "      <td>-0.31</td>\n",
       "      <td>0.27</td>\n",
       "      <td>0.29</td>\n",
       "      <td>0.24</td>\n",
       "      <td>-0.16</td>\n",
       "      <td>0.14</td>\n",
       "      <td>0.55</td>\n",
       "      <td>-0.07</td>\n",
       "      <td>0.07</td>\n",
       "      <td>0.64</td>\n",
       "    </tr>\n",
       "    <tr>\n",
       "      <th>Malic Acid</th>\n",
       "      <td>0.44</td>\n",
       "      <td>0.09</td>\n",
       "      <td>1.00</td>\n",
       "      <td>0.16</td>\n",
       "      <td>0.29</td>\n",
       "      <td>-0.05</td>\n",
       "      <td>-0.34</td>\n",
       "      <td>-0.41</td>\n",
       "      <td>0.29</td>\n",
       "      <td>-0.22</td>\n",
       "      <td>0.25</td>\n",
       "      <td>-0.56</td>\n",
       "      <td>-0.37</td>\n",
       "      <td>-0.19</td>\n",
       "    </tr>\n",
       "    <tr>\n",
       "      <th>Ash</th>\n",
       "      <td>-0.05</td>\n",
       "      <td>0.21</td>\n",
       "      <td>0.16</td>\n",
       "      <td>1.00</td>\n",
       "      <td>0.44</td>\n",
       "      <td>0.29</td>\n",
       "      <td>0.13</td>\n",
       "      <td>0.12</td>\n",
       "      <td>0.19</td>\n",
       "      <td>0.01</td>\n",
       "      <td>0.26</td>\n",
       "      <td>-0.07</td>\n",
       "      <td>0.00</td>\n",
       "      <td>0.22</td>\n",
       "    </tr>\n",
       "    <tr>\n",
       "      <th>Alcalinity of ash</th>\n",
       "      <td>0.52</td>\n",
       "      <td>-0.31</td>\n",
       "      <td>0.29</td>\n",
       "      <td>0.44</td>\n",
       "      <td>1.00</td>\n",
       "      <td>-0.08</td>\n",
       "      <td>-0.32</td>\n",
       "      <td>-0.35</td>\n",
       "      <td>0.36</td>\n",
       "      <td>-0.20</td>\n",
       "      <td>0.02</td>\n",
       "      <td>-0.27</td>\n",
       "      <td>-0.28</td>\n",
       "      <td>-0.44</td>\n",
       "    </tr>\n",
       "    <tr>\n",
       "      <th>Magnesium</th>\n",
       "      <td>-0.21</td>\n",
       "      <td>0.27</td>\n",
       "      <td>-0.05</td>\n",
       "      <td>0.29</td>\n",
       "      <td>-0.08</td>\n",
       "      <td>1.00</td>\n",
       "      <td>0.21</td>\n",
       "      <td>0.20</td>\n",
       "      <td>-0.26</td>\n",
       "      <td>0.24</td>\n",
       "      <td>0.20</td>\n",
       "      <td>0.06</td>\n",
       "      <td>0.07</td>\n",
       "      <td>0.39</td>\n",
       "    </tr>\n",
       "    <tr>\n",
       "      <th>Total phenols</th>\n",
       "      <td>-0.72</td>\n",
       "      <td>0.29</td>\n",
       "      <td>-0.34</td>\n",
       "      <td>0.13</td>\n",
       "      <td>-0.32</td>\n",
       "      <td>0.21</td>\n",
       "      <td>1.00</td>\n",
       "      <td>0.86</td>\n",
       "      <td>-0.45</td>\n",
       "      <td>0.61</td>\n",
       "      <td>-0.06</td>\n",
       "      <td>0.43</td>\n",
       "      <td>0.70</td>\n",
       "      <td>0.50</td>\n",
       "    </tr>\n",
       "    <tr>\n",
       "      <th>Flavanoids</th>\n",
       "      <td>-0.85</td>\n",
       "      <td>0.24</td>\n",
       "      <td>-0.41</td>\n",
       "      <td>0.12</td>\n",
       "      <td>-0.35</td>\n",
       "      <td>0.20</td>\n",
       "      <td>0.86</td>\n",
       "      <td>1.00</td>\n",
       "      <td>-0.54</td>\n",
       "      <td>0.65</td>\n",
       "      <td>-0.17</td>\n",
       "      <td>0.54</td>\n",
       "      <td>0.79</td>\n",
       "      <td>0.49</td>\n",
       "    </tr>\n",
       "    <tr>\n",
       "      <th>Nonflavanoid phenols</th>\n",
       "      <td>0.49</td>\n",
       "      <td>-0.16</td>\n",
       "      <td>0.29</td>\n",
       "      <td>0.19</td>\n",
       "      <td>0.36</td>\n",
       "      <td>-0.26</td>\n",
       "      <td>-0.45</td>\n",
       "      <td>-0.54</td>\n",
       "      <td>1.00</td>\n",
       "      <td>-0.37</td>\n",
       "      <td>0.14</td>\n",
       "      <td>-0.26</td>\n",
       "      <td>-0.50</td>\n",
       "      <td>-0.31</td>\n",
       "    </tr>\n",
       "    <tr>\n",
       "      <th>Proanthocyanins</th>\n",
       "      <td>-0.50</td>\n",
       "      <td>0.14</td>\n",
       "      <td>-0.22</td>\n",
       "      <td>0.01</td>\n",
       "      <td>-0.20</td>\n",
       "      <td>0.24</td>\n",
       "      <td>0.61</td>\n",
       "      <td>0.65</td>\n",
       "      <td>-0.37</td>\n",
       "      <td>1.00</td>\n",
       "      <td>-0.03</td>\n",
       "      <td>0.30</td>\n",
       "      <td>0.52</td>\n",
       "      <td>0.33</td>\n",
       "    </tr>\n",
       "    <tr>\n",
       "      <th>Color intensity</th>\n",
       "      <td>0.27</td>\n",
       "      <td>0.55</td>\n",
       "      <td>0.25</td>\n",
       "      <td>0.26</td>\n",
       "      <td>0.02</td>\n",
       "      <td>0.20</td>\n",
       "      <td>-0.06</td>\n",
       "      <td>-0.17</td>\n",
       "      <td>0.14</td>\n",
       "      <td>-0.03</td>\n",
       "      <td>1.00</td>\n",
       "      <td>-0.52</td>\n",
       "      <td>-0.43</td>\n",
       "      <td>0.32</td>\n",
       "    </tr>\n",
       "    <tr>\n",
       "      <th>Hue</th>\n",
       "      <td>-0.62</td>\n",
       "      <td>-0.07</td>\n",
       "      <td>-0.56</td>\n",
       "      <td>-0.07</td>\n",
       "      <td>-0.27</td>\n",
       "      <td>0.06</td>\n",
       "      <td>0.43</td>\n",
       "      <td>0.54</td>\n",
       "      <td>-0.26</td>\n",
       "      <td>0.30</td>\n",
       "      <td>-0.52</td>\n",
       "      <td>1.00</td>\n",
       "      <td>0.57</td>\n",
       "      <td>0.24</td>\n",
       "    </tr>\n",
       "    <tr>\n",
       "      <th>OD280/OD315 of diluted wines</th>\n",
       "      <td>-0.79</td>\n",
       "      <td>0.07</td>\n",
       "      <td>-0.37</td>\n",
       "      <td>0.00</td>\n",
       "      <td>-0.28</td>\n",
       "      <td>0.07</td>\n",
       "      <td>0.70</td>\n",
       "      <td>0.79</td>\n",
       "      <td>-0.50</td>\n",
       "      <td>0.52</td>\n",
       "      <td>-0.43</td>\n",
       "      <td>0.57</td>\n",
       "      <td>1.00</td>\n",
       "      <td>0.31</td>\n",
       "    </tr>\n",
       "    <tr>\n",
       "      <th>Proline</th>\n",
       "      <td>-0.63</td>\n",
       "      <td>0.64</td>\n",
       "      <td>-0.19</td>\n",
       "      <td>0.22</td>\n",
       "      <td>-0.44</td>\n",
       "      <td>0.39</td>\n",
       "      <td>0.50</td>\n",
       "      <td>0.49</td>\n",
       "      <td>-0.31</td>\n",
       "      <td>0.33</td>\n",
       "      <td>0.32</td>\n",
       "      <td>0.24</td>\n",
       "      <td>0.31</td>\n",
       "      <td>1.00</td>\n",
       "    </tr>\n",
       "  </tbody>\n",
       "</table>\n",
       "</div>"
      ],
      "text/plain": [
       "                              Wine  Alcohol  Malic Acid   Ash  \\\n",
       "Wine                          1.00    -0.33        0.44 -0.05   \n",
       "Alcohol                      -0.33     1.00        0.09  0.21   \n",
       "Malic Acid                    0.44     0.09        1.00  0.16   \n",
       "Ash                          -0.05     0.21        0.16  1.00   \n",
       "Alcalinity of ash             0.52    -0.31        0.29  0.44   \n",
       "Magnesium                    -0.21     0.27       -0.05  0.29   \n",
       "Total phenols                -0.72     0.29       -0.34  0.13   \n",
       "Flavanoids                   -0.85     0.24       -0.41  0.12   \n",
       "Nonflavanoid phenols          0.49    -0.16        0.29  0.19   \n",
       "Proanthocyanins              -0.50     0.14       -0.22  0.01   \n",
       "Color intensity               0.27     0.55        0.25  0.26   \n",
       "Hue                          -0.62    -0.07       -0.56 -0.07   \n",
       "OD280/OD315 of diluted wines -0.79     0.07       -0.37  0.00   \n",
       "Proline                      -0.63     0.64       -0.19  0.22   \n",
       "\n",
       "                              Alcalinity of ash  Magnesium  Total phenols  \\\n",
       "Wine                                       0.52      -0.21          -0.72   \n",
       "Alcohol                                   -0.31       0.27           0.29   \n",
       "Malic Acid                                 0.29      -0.05          -0.34   \n",
       "Ash                                        0.44       0.29           0.13   \n",
       "Alcalinity of ash                          1.00      -0.08          -0.32   \n",
       "Magnesium                                 -0.08       1.00           0.21   \n",
       "Total phenols                             -0.32       0.21           1.00   \n",
       "Flavanoids                                -0.35       0.20           0.86   \n",
       "Nonflavanoid phenols                       0.36      -0.26          -0.45   \n",
       "Proanthocyanins                           -0.20       0.24           0.61   \n",
       "Color intensity                            0.02       0.20          -0.06   \n",
       "Hue                                       -0.27       0.06           0.43   \n",
       "OD280/OD315 of diluted wines              -0.28       0.07           0.70   \n",
       "Proline                                   -0.44       0.39           0.50   \n",
       "\n",
       "                              Flavanoids  Nonflavanoid phenols  \\\n",
       "Wine                               -0.85                  0.49   \n",
       "Alcohol                             0.24                 -0.16   \n",
       "Malic Acid                         -0.41                  0.29   \n",
       "Ash                                 0.12                  0.19   \n",
       "Alcalinity of ash                  -0.35                  0.36   \n",
       "Magnesium                           0.20                 -0.26   \n",
       "Total phenols                       0.86                 -0.45   \n",
       "Flavanoids                          1.00                 -0.54   \n",
       "Nonflavanoid phenols               -0.54                  1.00   \n",
       "Proanthocyanins                     0.65                 -0.37   \n",
       "Color intensity                    -0.17                  0.14   \n",
       "Hue                                 0.54                 -0.26   \n",
       "OD280/OD315 of diluted wines        0.79                 -0.50   \n",
       "Proline                             0.49                 -0.31   \n",
       "\n",
       "                              Proanthocyanins  Color intensity   Hue  \\\n",
       "Wine                                    -0.50             0.27 -0.62   \n",
       "Alcohol                                  0.14             0.55 -0.07   \n",
       "Malic Acid                              -0.22             0.25 -0.56   \n",
       "Ash                                      0.01             0.26 -0.07   \n",
       "Alcalinity of ash                       -0.20             0.02 -0.27   \n",
       "Magnesium                                0.24             0.20  0.06   \n",
       "Total phenols                            0.61            -0.06  0.43   \n",
       "Flavanoids                               0.65            -0.17  0.54   \n",
       "Nonflavanoid phenols                    -0.37             0.14 -0.26   \n",
       "Proanthocyanins                          1.00            -0.03  0.30   \n",
       "Color intensity                         -0.03             1.00 -0.52   \n",
       "Hue                                      0.30            -0.52  1.00   \n",
       "OD280/OD315 of diluted wines             0.52            -0.43  0.57   \n",
       "Proline                                  0.33             0.32  0.24   \n",
       "\n",
       "                              OD280/OD315 of diluted wines  Proline  \n",
       "Wine                                                 -0.79    -0.63  \n",
       "Alcohol                                               0.07     0.64  \n",
       "Malic Acid                                           -0.37    -0.19  \n",
       "Ash                                                   0.00     0.22  \n",
       "Alcalinity of ash                                    -0.28    -0.44  \n",
       "Magnesium                                             0.07     0.39  \n",
       "Total phenols                                         0.70     0.50  \n",
       "Flavanoids                                            0.79     0.49  \n",
       "Nonflavanoid phenols                                 -0.50    -0.31  \n",
       "Proanthocyanins                                       0.52     0.33  \n",
       "Color intensity                                      -0.43     0.32  \n",
       "Hue                                                   0.57     0.24  \n",
       "OD280/OD315 of diluted wines                          1.00     0.31  \n",
       "Proline                                               0.31     1.00  "
      ]
     },
     "execution_count": 66,
     "metadata": {},
     "output_type": "execute_result"
    }
   ],
   "source": [
    "cormat = df.corr()\n",
    "round(cormat,2)"
   ]
  },
  {
   "cell_type": "code",
   "execution_count": 67,
   "id": "22b0a06c",
   "metadata": {},
   "outputs": [
    {
     "data": {
      "image/png": "[encoded data removed]",
      "text/plain": [
       "<Figure size 432x288 with 2 Axes>"
      ]
     },
     "metadata": {
      "needs_background": "light"
     },
     "output_type": "display_data"
    }
   ],
   "source": [
    "sns.heatmap(cormat);"
   ]
  },
  {
   "cell_type": "code",
   "execution_count": 68,
   "id": "1c7aae31",
   "metadata": {},
   "outputs": [
    {
     "data": {
      "image/png": "[encoded data removed]",
      "text/plain": [
       "<Figure size 402.375x360 with 1 Axes>"
      ]
     },
     "metadata": {
      "needs_background": "light"
     },
     "output_type": "display_data"
    }
   ],
   "source": [
    "sns.lmplot(x=\"Color intensity\", y=\"Hue\", hue=\"Wine\", data=df);"
   ]
  },
  {
   "cell_type": "code",
   "execution_count": 69,
   "id": "024a1ecd",
   "metadata": {},
   "outputs": [
    {
     "data": {
      "image/png": "[encoded data removed]",
      "text/plain": [
       "<Figure size 432x288 with 1 Axes>"
      ]
     },
     "metadata": {
      "needs_background": "light"
     },
     "output_type": "display_data"
    }
   ],
   "source": [
    "v1 = df.loc[df[\"Wine\"]==1, 'Color intensity']\n",
    "v2 = df.loc[df[\"Wine\"]==2, 'Color intensity']\n",
    "v3 = df.loc[df[\"Wine\"]==3, 'Color intensity']\n",
    "\n",
    "hist = dict(alpha=0.6, bins=25)\n",
    "\n",
    "plt.hist(v1, **hist, color='g', label = 'Tipe 1')\n",
    "plt.hist(v2, **hist, color='b', label = 'Tipe 2')\n",
    "plt.hist(v3, **hist, color='r', label = 'Tipe 3')\n",
    "plt.gca().set(title='Persebaran Color Intensity', xlabel = 'Color intensity', ylabel = 'Frekuensi')\n",
    "\n",
    "plt.legend();"
   ]
  },
  {
   "cell_type": "code",
   "execution_count": 70,
   "id": "17a25753",
   "metadata": {},
   "outputs": [
    {
     "data": {
      "image/png": "[encoded data removed]",
      "text/plain": [
       "<Figure size 432x288 with 1 Axes>"
      ]
     },
     "metadata": {
      "needs_background": "light"
     },
     "output_type": "display_data"
    }
   ],
   "source": [
    "v1 = df.loc[df[\"Wine\"]==1, 'Hue']\n",
    "v2 = df.loc[df[\"Wine\"]==2, 'Hue']\n",
    "v3 = df.loc[df[\"Wine\"]==3, 'Hue']\n",
    "\n",
    "hist = dict(alpha=0.6, bins=25)\n",
    "\n",
    "plt.hist(v1, **hist, color='g', label = 'Tipe 1')\n",
    "plt.hist(v2, **hist, color='b', label = 'Tipe 2')\n",
    "plt.hist(v3, **hist, color='r', label = 'Tipe 3')\n",
    "plt.gca().set(title='Persebaran Hue', xlabel = 'Hue', ylabel = 'Frekuensi')\n",
    "\n",
    "plt.legend();"
   ]
  },
  {
   "cell_type": "code",
   "execution_count": 71,
   "id": "3ff437d9",
   "metadata": {},
   "outputs": [
    {
     "data": {
      "image/png": "[encoded data removed]",
      "text/plain": [
       "<Figure size 432x288 with 1 Axes>"
      ]
     },
     "metadata": {
      "needs_background": "light"
     },
     "output_type": "display_data"
    }
   ],
   "source": [
    "a1 = df.loc[df[\"Wine\"]==1, 'Alcalinity of ash']\n",
    "a2 = df.loc[df[\"Wine\"]==2, 'Alcalinity of ash']\n",
    "a3 = df.loc[df[\"Wine\"]==3, 'Alcalinity of ash']\n",
    "\n",
    "hist = dict(alpha=0.6, bins=25)\n",
    "\n",
    "plt.hist(a1, **hist, color='g', label = 'Tipe 1')\n",
    "plt.hist(a2, **hist, color='b', label = 'Tipe 2')\n",
    "plt.hist(a3, **hist, color='r', label = 'Tipe 3')\n",
    "plt.gca().set(title='Persebaran Alcalinity of Ash', xlabel = 'Alcalinity of ash', ylabel = 'Frekuensi')\n",
    "\n",
    "plt.legend();"
   ]
  },
  {
   "cell_type": "code",
   "execution_count": 72,
   "id": "e60009fa",
   "metadata": {},
   "outputs": [
    {
     "data": {
      "image/png": "[encoded data removed]",
      "text/plain": [
       "<Figure size 432x288 with 1 Axes>"
      ]
     },
     "metadata": {
      "needs_background": "light"
     },
     "output_type": "display_data"
    }
   ],
   "source": [
    "m1 = df.loc[df[\"Wine\"]==1, 'Magnesium']\n",
    "m2 = df.loc[df[\"Wine\"]==2, 'Magnesium']\n",
    "m3 = df.loc[df[\"Wine\"]==3, 'Magnesium']\n",
    "\n",
    "hist = dict(alpha=0.6, bins=25)\n",
    "\n",
    "plt.hist(m1, **hist, color='g', label = 'Tipe 1')\n",
    "plt.hist(m2, **hist, color='b', label = 'Tipe 2')\n",
    "plt.hist(m3, **hist, color='r', label = 'Tipe 3')\n",
    "plt.gca().set(title='Persebaran Magnesium', xlabel = 'Magnesium', ylabel = 'Frekuensi')\n",
    "\n",
    "plt.legend();"
   ]
  },
  {
   "cell_type": "code",
   "execution_count": 73,
   "id": "8e7e75df",
   "metadata": {},
   "outputs": [
    {
     "data": {
      "image/png": "[encoded data removed]",
      "text/plain": [
       "<Figure size 432x288 with 1 Axes>"
      ]
     },
     "metadata": {
      "needs_background": "light"
     },
     "output_type": "display_data"
    }
   ],
   "source": [
    "f1 = df.loc[df[\"Wine\"]==1, 'Flavanoids']\n",
    "f2 = df.loc[df[\"Wine\"]==2, 'Flavanoids']\n",
    "f3 = df.loc[df[\"Wine\"]==3, 'Flavanoids']\n",
    "\n",
    "hist = dict(alpha=0.6, bins=25)\n",
    "\n",
    "plt.hist(f1, **hist, color='g', label = 'Tipe 1')\n",
    "plt.hist(f2, **hist, color='b', label = 'Tipe 2')\n",
    "plt.hist(f3, **hist, color='r', label = 'Tipe 3')\n",
    "plt.gca().set(title='Persebaran Flavanoids', xlabel = 'Flavanoids', ylabel = 'Frekuensi')\n",
    "\n",
    "plt.legend();"
   ]
  },
  {
   "cell_type": "code",
   "execution_count": 74,
   "id": "a431aa6a",
   "metadata": {},
   "outputs": [
    {
     "data": {
      "image/png": "[encoded data removed]",
      "text/plain": [
       "<Figure size 432x288 with 1 Axes>"
      ]
     },
     "metadata": {
      "needs_background": "light"
     },
     "output_type": "display_data"
    }
   ],
   "source": [
    "f1 = df.loc[df[\"Wine\"]==1, 'OD280/OD315 of diluted wines']\n",
    "f2 = df.loc[df[\"Wine\"]==2, 'OD280/OD315 of diluted wines']\n",
    "f3 = df.loc[df[\"Wine\"]==3, 'OD280/OD315 of diluted wines']\n",
    "\n",
    "hist = dict(alpha=0.6, bins=25)\n",
    "\n",
    "plt.hist(f1, **hist, color='g', label = 'Tipe 1')\n",
    "plt.hist(f2, **hist, color='b', label = 'Tipe 2')\n",
    "plt.hist(f3, **hist, color='r', label = 'Tipe 3')\n",
    "plt.gca().set(title='Persebaran Protein', xlabel = 'OD280/OD315 of diluted wines', ylabel = 'Frekuensi')\n",
    "\n",
    "plt.legend();"
   ]
  },
  {
   "cell_type": "code",
   "execution_count": 75,
   "id": "a8465711",
   "metadata": {},
   "outputs": [
    {
     "data": {
      "image/png": "[encoded data removed]",
      "text/plain": [
       "<Figure size 432x288 with 1 Axes>"
      ]
     },
     "metadata": {
      "needs_background": "light"
     },
     "output_type": "display_data"
    }
   ],
   "source": [
    "f1 = df.loc[df[\"Wine\"]==1, 'Proline']\n",
    "f2 = df.loc[df[\"Wine\"]==2, 'Proline']\n",
    "f3 = df.loc[df[\"Wine\"]==3, 'Proline']\n",
    "\n",
    "hist = dict(alpha=0.6, bins=25)\n",
    "\n",
    "plt.hist(f1, **hist, color='g', label = 'Tipe 1')\n",
    "plt.hist(f2, **hist, color='b', label = 'Tipe 2')\n",
    "plt.hist(f3, **hist, color='r', label = 'Tipe 3')\n",
    "plt.gca().set(title='Persebaran Proline', xlabel = 'Proline', ylabel = 'Frekuensi')\n",
    "\n",
    "plt.legend();"
   ]
  },
  {
   "cell_type": "code",
   "execution_count": null,
   "id": "1f777096",
   "metadata": {},
   "outputs": [],
   "source": []
  }
 ],
 "metadata": {
  "kernelspec": {
   "display_name": "Python 3",
   "language": "python",
   "name": "python3"
  },
  "language_info": {
   "codemirror_mode": {
    "name": "ipython",
    "version": 3
   },
   "file_extension": ".py",
   "mimetype": "text/x-python",
   "name": "python",
   "nbconvert_exporter": "python",
   "pygments_lexer": "ipython3",
   "version": "3.8.8"
  }
 },
 "nbformat": 4,
 "nbformat_minor": 5
}
